{
 "cells": [
  {
   "cell_type": "markdown",
   "id": "2cf20c27-7d45-4137-93ae-c38941f997a0",
   "metadata": {},
   "source": [
    "# H1N1 vaccine classification"
   ]
  },
  {
   "cell_type": "code",
   "execution_count": 289,
   "id": "a81cdb29-2514-4561-9bbb-1dc88711ded2",
   "metadata": {
    "id": "a81cdb29-2514-4561-9bbb-1dc88711ded2"
   },
   "outputs": [],
   "source": [
    "import pandas as pd\n",
    "import numpy as np\n",
    "import matplotlib.pyplot as plt\n",
    "import seaborn as sns"
   ]
  },
  {
   "cell_type": "code",
   "execution_count": 290,
   "id": "20c41855-8646-4202-addb-e9c8891a5347",
   "metadata": {},
   "outputs": [],
   "source": [
    "pd.set_option('display.max_columns', None)"
   ]
  },
  {
   "cell_type": "code",
   "execution_count": 291,
   "id": "4e13bfa5-fb48-4102-85db-37c5f8fe8548",
   "metadata": {
    "colab": {
     "base_uri": "https://localhost:8080/",
     "height": 426
    },
    "id": "4e13bfa5-fb48-4102-85db-37c5f8fe8548",
    "outputId": "28b1948b-a1d8-46f3-e76a-2d5ce429f651"
   },
   "outputs": [
    {
     "data": {
      "text/html": [
       "<div>\n",
       "<style scoped>\n",
       "    .dataframe tbody tr th:only-of-type {\n",
       "        vertical-align: middle;\n",
       "    }\n",
       "\n",
       "    .dataframe tbody tr th {\n",
       "        vertical-align: top;\n",
       "    }\n",
       "\n",
       "    .dataframe thead th {\n",
       "        text-align: right;\n",
       "    }\n",
       "</style>\n",
       "<table border=\"1\" class=\"dataframe\">\n",
       "  <thead>\n",
       "    <tr style=\"text-align: right;\">\n",
       "      <th></th>\n",
       "      <th>unique_id</th>\n",
       "      <th>h1n1_worry</th>\n",
       "      <th>h1n1_awareness</th>\n",
       "      <th>antiviral_medication</th>\n",
       "      <th>contact_avoidance</th>\n",
       "      <th>bought_face_mask</th>\n",
       "      <th>wash_hands_frequently</th>\n",
       "      <th>avoid_large_gatherings</th>\n",
       "      <th>reduced_outside_home_cont</th>\n",
       "      <th>avoid_touch_face</th>\n",
       "      <th>dr_recc_h1n1_vacc</th>\n",
       "      <th>dr_recc_seasonal_vacc</th>\n",
       "      <th>chronic_medic_condition</th>\n",
       "      <th>cont_child_undr_6_mnths</th>\n",
       "      <th>is_health_worker</th>\n",
       "      <th>has_health_insur</th>\n",
       "      <th>is_h1n1_vacc_effective</th>\n",
       "      <th>is_h1n1_risky</th>\n",
       "      <th>sick_from_h1n1_vacc</th>\n",
       "      <th>is_seas_vacc_effective</th>\n",
       "      <th>is_seas_risky</th>\n",
       "      <th>sick_from_seas_vacc</th>\n",
       "      <th>age_bracket</th>\n",
       "      <th>qualification</th>\n",
       "      <th>race</th>\n",
       "      <th>sex</th>\n",
       "      <th>income_level</th>\n",
       "      <th>marital_status</th>\n",
       "      <th>housing_status</th>\n",
       "      <th>employment</th>\n",
       "      <th>census_msa</th>\n",
       "      <th>no_of_adults</th>\n",
       "      <th>no_of_children</th>\n",
       "      <th>h1n1_vaccine</th>\n",
       "    </tr>\n",
       "  </thead>\n",
       "  <tbody>\n",
       "    <tr>\n",
       "      <th>0</th>\n",
       "      <td>0</td>\n",
       "      <td>1.0</td>\n",
       "      <td>0.0</td>\n",
       "      <td>0.0</td>\n",
       "      <td>0.0</td>\n",
       "      <td>0.0</td>\n",
       "      <td>0.0</td>\n",
       "      <td>0.0</td>\n",
       "      <td>1.0</td>\n",
       "      <td>1.0</td>\n",
       "      <td>0.0</td>\n",
       "      <td>0.0</td>\n",
       "      <td>0.0</td>\n",
       "      <td>0.0</td>\n",
       "      <td>0.0</td>\n",
       "      <td>1.0</td>\n",
       "      <td>3.0</td>\n",
       "      <td>1.0</td>\n",
       "      <td>2.0</td>\n",
       "      <td>2.0</td>\n",
       "      <td>1.0</td>\n",
       "      <td>2.0</td>\n",
       "      <td>55 - 64 Years</td>\n",
       "      <td>&lt; 12 Years</td>\n",
       "      <td>White</td>\n",
       "      <td>Female</td>\n",
       "      <td>Below Poverty</td>\n",
       "      <td>Not Married</td>\n",
       "      <td>Own</td>\n",
       "      <td>Not in Labor Force</td>\n",
       "      <td>Non-MSA</td>\n",
       "      <td>0.0</td>\n",
       "      <td>0.0</td>\n",
       "      <td>0</td>\n",
       "    </tr>\n",
       "    <tr>\n",
       "      <th>1</th>\n",
       "      <td>1</td>\n",
       "      <td>3.0</td>\n",
       "      <td>2.0</td>\n",
       "      <td>0.0</td>\n",
       "      <td>1.0</td>\n",
       "      <td>0.0</td>\n",
       "      <td>1.0</td>\n",
       "      <td>0.0</td>\n",
       "      <td>1.0</td>\n",
       "      <td>1.0</td>\n",
       "      <td>0.0</td>\n",
       "      <td>0.0</td>\n",
       "      <td>0.0</td>\n",
       "      <td>0.0</td>\n",
       "      <td>0.0</td>\n",
       "      <td>1.0</td>\n",
       "      <td>5.0</td>\n",
       "      <td>4.0</td>\n",
       "      <td>4.0</td>\n",
       "      <td>4.0</td>\n",
       "      <td>2.0</td>\n",
       "      <td>4.0</td>\n",
       "      <td>35 - 44 Years</td>\n",
       "      <td>12 Years</td>\n",
       "      <td>White</td>\n",
       "      <td>Male</td>\n",
       "      <td>Below Poverty</td>\n",
       "      <td>Not Married</td>\n",
       "      <td>Rent</td>\n",
       "      <td>Employed</td>\n",
       "      <td>MSA, Not Principle  City</td>\n",
       "      <td>0.0</td>\n",
       "      <td>0.0</td>\n",
       "      <td>0</td>\n",
       "    </tr>\n",
       "    <tr>\n",
       "      <th>2</th>\n",
       "      <td>2</td>\n",
       "      <td>1.0</td>\n",
       "      <td>1.0</td>\n",
       "      <td>0.0</td>\n",
       "      <td>1.0</td>\n",
       "      <td>0.0</td>\n",
       "      <td>0.0</td>\n",
       "      <td>0.0</td>\n",
       "      <td>0.0</td>\n",
       "      <td>0.0</td>\n",
       "      <td>NaN</td>\n",
       "      <td>NaN</td>\n",
       "      <td>1.0</td>\n",
       "      <td>0.0</td>\n",
       "      <td>0.0</td>\n",
       "      <td>NaN</td>\n",
       "      <td>3.0</td>\n",
       "      <td>1.0</td>\n",
       "      <td>1.0</td>\n",
       "      <td>4.0</td>\n",
       "      <td>1.0</td>\n",
       "      <td>2.0</td>\n",
       "      <td>18 - 34 Years</td>\n",
       "      <td>College Graduate</td>\n",
       "      <td>White</td>\n",
       "      <td>Male</td>\n",
       "      <td>&lt;= $75,000, Above Poverty</td>\n",
       "      <td>Not Married</td>\n",
       "      <td>Own</td>\n",
       "      <td>Employed</td>\n",
       "      <td>MSA, Not Principle  City</td>\n",
       "      <td>2.0</td>\n",
       "      <td>0.0</td>\n",
       "      <td>0</td>\n",
       "    </tr>\n",
       "    <tr>\n",
       "      <th>3</th>\n",
       "      <td>3</td>\n",
       "      <td>1.0</td>\n",
       "      <td>1.0</td>\n",
       "      <td>0.0</td>\n",
       "      <td>1.0</td>\n",
       "      <td>0.0</td>\n",
       "      <td>1.0</td>\n",
       "      <td>1.0</td>\n",
       "      <td>0.0</td>\n",
       "      <td>0.0</td>\n",
       "      <td>0.0</td>\n",
       "      <td>1.0</td>\n",
       "      <td>1.0</td>\n",
       "      <td>0.0</td>\n",
       "      <td>0.0</td>\n",
       "      <td>NaN</td>\n",
       "      <td>3.0</td>\n",
       "      <td>3.0</td>\n",
       "      <td>5.0</td>\n",
       "      <td>5.0</td>\n",
       "      <td>4.0</td>\n",
       "      <td>1.0</td>\n",
       "      <td>65+ Years</td>\n",
       "      <td>12 Years</td>\n",
       "      <td>White</td>\n",
       "      <td>Female</td>\n",
       "      <td>Below Poverty</td>\n",
       "      <td>Not Married</td>\n",
       "      <td>Rent</td>\n",
       "      <td>Not in Labor Force</td>\n",
       "      <td>MSA, Principle City</td>\n",
       "      <td>0.0</td>\n",
       "      <td>0.0</td>\n",
       "      <td>0</td>\n",
       "    </tr>\n",
       "    <tr>\n",
       "      <th>4</th>\n",
       "      <td>4</td>\n",
       "      <td>2.0</td>\n",
       "      <td>1.0</td>\n",
       "      <td>0.0</td>\n",
       "      <td>1.0</td>\n",
       "      <td>0.0</td>\n",
       "      <td>1.0</td>\n",
       "      <td>1.0</td>\n",
       "      <td>0.0</td>\n",
       "      <td>1.0</td>\n",
       "      <td>0.0</td>\n",
       "      <td>0.0</td>\n",
       "      <td>0.0</td>\n",
       "      <td>0.0</td>\n",
       "      <td>0.0</td>\n",
       "      <td>NaN</td>\n",
       "      <td>3.0</td>\n",
       "      <td>3.0</td>\n",
       "      <td>2.0</td>\n",
       "      <td>3.0</td>\n",
       "      <td>1.0</td>\n",
       "      <td>4.0</td>\n",
       "      <td>45 - 54 Years</td>\n",
       "      <td>Some College</td>\n",
       "      <td>White</td>\n",
       "      <td>Female</td>\n",
       "      <td>&lt;= $75,000, Above Poverty</td>\n",
       "      <td>Married</td>\n",
       "      <td>Own</td>\n",
       "      <td>Employed</td>\n",
       "      <td>MSA, Not Principle  City</td>\n",
       "      <td>1.0</td>\n",
       "      <td>0.0</td>\n",
       "      <td>0</td>\n",
       "    </tr>\n",
       "  </tbody>\n",
       "</table>\n",
       "</div>"
      ],
      "text/plain": [
       "   unique_id  h1n1_worry  h1n1_awareness  antiviral_medication  \\\n",
       "0          0         1.0             0.0                   0.0   \n",
       "1          1         3.0             2.0                   0.0   \n",
       "2          2         1.0             1.0                   0.0   \n",
       "3          3         1.0             1.0                   0.0   \n",
       "4          4         2.0             1.0                   0.0   \n",
       "\n",
       "   contact_avoidance  bought_face_mask  wash_hands_frequently  \\\n",
       "0                0.0               0.0                    0.0   \n",
       "1                1.0               0.0                    1.0   \n",
       "2                1.0               0.0                    0.0   \n",
       "3                1.0               0.0                    1.0   \n",
       "4                1.0               0.0                    1.0   \n",
       "\n",
       "   avoid_large_gatherings  reduced_outside_home_cont  avoid_touch_face  \\\n",
       "0                     0.0                        1.0               1.0   \n",
       "1                     0.0                        1.0               1.0   \n",
       "2                     0.0                        0.0               0.0   \n",
       "3                     1.0                        0.0               0.0   \n",
       "4                     1.0                        0.0               1.0   \n",
       "\n",
       "   dr_recc_h1n1_vacc  dr_recc_seasonal_vacc  chronic_medic_condition  \\\n",
       "0                0.0                    0.0                      0.0   \n",
       "1                0.0                    0.0                      0.0   \n",
       "2                NaN                    NaN                      1.0   \n",
       "3                0.0                    1.0                      1.0   \n",
       "4                0.0                    0.0                      0.0   \n",
       "\n",
       "   cont_child_undr_6_mnths  is_health_worker  has_health_insur  \\\n",
       "0                      0.0               0.0               1.0   \n",
       "1                      0.0               0.0               1.0   \n",
       "2                      0.0               0.0               NaN   \n",
       "3                      0.0               0.0               NaN   \n",
       "4                      0.0               0.0               NaN   \n",
       "\n",
       "   is_h1n1_vacc_effective  is_h1n1_risky  sick_from_h1n1_vacc  \\\n",
       "0                     3.0            1.0                  2.0   \n",
       "1                     5.0            4.0                  4.0   \n",
       "2                     3.0            1.0                  1.0   \n",
       "3                     3.0            3.0                  5.0   \n",
       "4                     3.0            3.0                  2.0   \n",
       "\n",
       "   is_seas_vacc_effective  is_seas_risky  sick_from_seas_vacc    age_bracket  \\\n",
       "0                     2.0            1.0                  2.0  55 - 64 Years   \n",
       "1                     4.0            2.0                  4.0  35 - 44 Years   \n",
       "2                     4.0            1.0                  2.0  18 - 34 Years   \n",
       "3                     5.0            4.0                  1.0      65+ Years   \n",
       "4                     3.0            1.0                  4.0  45 - 54 Years   \n",
       "\n",
       "      qualification   race     sex               income_level marital_status  \\\n",
       "0        < 12 Years  White  Female              Below Poverty    Not Married   \n",
       "1          12 Years  White    Male              Below Poverty    Not Married   \n",
       "2  College Graduate  White    Male  <= $75,000, Above Poverty    Not Married   \n",
       "3          12 Years  White  Female              Below Poverty    Not Married   \n",
       "4      Some College  White  Female  <= $75,000, Above Poverty        Married   \n",
       "\n",
       "  housing_status          employment                census_msa  no_of_adults  \\\n",
       "0            Own  Not in Labor Force                   Non-MSA           0.0   \n",
       "1           Rent            Employed  MSA, Not Principle  City           0.0   \n",
       "2            Own            Employed  MSA, Not Principle  City           2.0   \n",
       "3           Rent  Not in Labor Force       MSA, Principle City           0.0   \n",
       "4            Own            Employed  MSA, Not Principle  City           1.0   \n",
       "\n",
       "   no_of_children  h1n1_vaccine  \n",
       "0             0.0             0  \n",
       "1             0.0             0  \n",
       "2             0.0             0  \n",
       "3             0.0             0  \n",
       "4             0.0             0  "
      ]
     },
     "execution_count": 291,
     "metadata": {},
     "output_type": "execute_result"
    }
   ],
   "source": [
    "data = pd.read_csv('h1N1_VACCINE.csv')\n",
    "data.head()"
   ]
  },
  {
   "cell_type": "code",
   "execution_count": 292,
   "id": "93da0f97-55b6-4629-bda7-a36b6bf59485",
   "metadata": {
    "colab": {
     "base_uri": "https://localhost:8080/"
    },
    "id": "93da0f97-55b6-4629-bda7-a36b6bf59485",
    "outputId": "f2df261d-8738-4b94-803d-004605205126"
   },
   "outputs": [
    {
     "data": {
      "text/plain": [
       "(26707, 34)"
      ]
     },
     "execution_count": 292,
     "metadata": {},
     "output_type": "execute_result"
    }
   ],
   "source": [
    "data.shape"
   ]
  },
  {
   "cell_type": "code",
   "execution_count": 293,
   "id": "9d04b9b5-98a2-416a-8b8c-640eb50b3bf7",
   "metadata": {
    "colab": {
     "base_uri": "https://localhost:8080/"
    },
    "id": "9d04b9b5-98a2-416a-8b8c-640eb50b3bf7",
    "outputId": "01cf42f9-08f7-4976-dcde-9c93bbd9ca53"
   },
   "outputs": [
    {
     "data": {
      "text/plain": [
       "908038"
      ]
     },
     "execution_count": 293,
     "metadata": {},
     "output_type": "execute_result"
    }
   ],
   "source": [
    "data.size"
   ]
  },
  {
   "cell_type": "code",
   "execution_count": 294,
   "id": "3af0fdb7-de81-4ae4-b597-27f372d6f7bd",
   "metadata": {
    "colab": {
     "base_uri": "https://localhost:8080/"
    },
    "id": "3af0fdb7-de81-4ae4-b597-27f372d6f7bd",
    "outputId": "b831a343-25b9-41f4-965d-6c343befde4b"
   },
   "outputs": [
    {
     "name": "stdout",
     "output_type": "stream",
     "text": [
      "<class 'pandas.core.frame.DataFrame'>\n",
      "RangeIndex: 26707 entries, 0 to 26706\n",
      "Data columns (total 34 columns):\n",
      " #   Column                     Non-Null Count  Dtype  \n",
      "---  ------                     --------------  -----  \n",
      " 0   unique_id                  26707 non-null  int64  \n",
      " 1   h1n1_worry                 26615 non-null  float64\n",
      " 2   h1n1_awareness             26591 non-null  float64\n",
      " 3   antiviral_medication       26636 non-null  float64\n",
      " 4   contact_avoidance          26499 non-null  float64\n",
      " 5   bought_face_mask           26688 non-null  float64\n",
      " 6   wash_hands_frequently      26665 non-null  float64\n",
      " 7   avoid_large_gatherings     26620 non-null  float64\n",
      " 8   reduced_outside_home_cont  26625 non-null  float64\n",
      " 9   avoid_touch_face           26579 non-null  float64\n",
      " 10  dr_recc_h1n1_vacc          24547 non-null  float64\n",
      " 11  dr_recc_seasonal_vacc      24547 non-null  float64\n",
      " 12  chronic_medic_condition    25736 non-null  float64\n",
      " 13  cont_child_undr_6_mnths    25887 non-null  float64\n",
      " 14  is_health_worker           25903 non-null  float64\n",
      " 15  has_health_insur           14433 non-null  float64\n",
      " 16  is_h1n1_vacc_effective     26316 non-null  float64\n",
      " 17  is_h1n1_risky              26319 non-null  float64\n",
      " 18  sick_from_h1n1_vacc        26312 non-null  float64\n",
      " 19  is_seas_vacc_effective     26245 non-null  float64\n",
      " 20  is_seas_risky              26193 non-null  float64\n",
      " 21  sick_from_seas_vacc        26170 non-null  float64\n",
      " 22  age_bracket                26707 non-null  object \n",
      " 23  qualification              25300 non-null  object \n",
      " 24  race                       26707 non-null  object \n",
      " 25  sex                        26707 non-null  object \n",
      " 26  income_level               22284 non-null  object \n",
      " 27  marital_status             25299 non-null  object \n",
      " 28  housing_status             24665 non-null  object \n",
      " 29  employment                 25244 non-null  object \n",
      " 30  census_msa                 26707 non-null  object \n",
      " 31  no_of_adults               26458 non-null  float64\n",
      " 32  no_of_children             26458 non-null  float64\n",
      " 33  h1n1_vaccine               26707 non-null  int64  \n",
      "dtypes: float64(23), int64(2), object(9)\n",
      "memory usage: 6.9+ MB\n"
     ]
    }
   ],
   "source": [
    "data.info()"
   ]
  },
  {
   "cell_type": "code",
   "execution_count": 295,
   "id": "f839fdaa-9668-47aa-ba10-e399f45a7f6c",
   "metadata": {
    "colab": {
     "base_uri": "https://localhost:8080/"
    },
    "id": "f839fdaa-9668-47aa-ba10-e399f45a7f6c",
    "outputId": "a03af5f1-e245-444e-b7fe-ca30fde61b73",
    "tags": []
   },
   "outputs": [
    {
     "data": {
      "text/plain": [
       "unique_id                    26707\n",
       "h1n1_worry                       4\n",
       "h1n1_awareness                   3\n",
       "antiviral_medication             2\n",
       "contact_avoidance                2\n",
       "bought_face_mask                 2\n",
       "wash_hands_frequently            2\n",
       "avoid_large_gatherings           2\n",
       "reduced_outside_home_cont        2\n",
       "avoid_touch_face                 2\n",
       "dr_recc_h1n1_vacc                2\n",
       "dr_recc_seasonal_vacc            2\n",
       "chronic_medic_condition          2\n",
       "cont_child_undr_6_mnths          2\n",
       "is_health_worker                 2\n",
       "has_health_insur                 2\n",
       "is_h1n1_vacc_effective           5\n",
       "is_h1n1_risky                    5\n",
       "sick_from_h1n1_vacc              5\n",
       "is_seas_vacc_effective           5\n",
       "is_seas_risky                    5\n",
       "sick_from_seas_vacc              5\n",
       "age_bracket                      5\n",
       "qualification                    4\n",
       "race                             4\n",
       "sex                              2\n",
       "income_level                     3\n",
       "marital_status                   2\n",
       "housing_status                   2\n",
       "employment                       3\n",
       "census_msa                       3\n",
       "no_of_adults                     4\n",
       "no_of_children                   4\n",
       "h1n1_vaccine                     2\n",
       "dtype: int64"
      ]
     },
     "execution_count": 295,
     "metadata": {},
     "output_type": "execute_result"
    }
   ],
   "source": [
    "data.nunique()"
   ]
  },
  {
   "cell_type": "code",
   "execution_count": 296,
   "id": "f0f2339a-71f4-4043-b396-ff93cf190da6",
   "metadata": {},
   "outputs": [],
   "source": [
    "## we see we have 26707 unique patiets data that has been collected"
   ]
  },
  {
   "cell_type": "code",
   "execution_count": 297,
   "id": "9f7a8d1e-a8af-441e-aba8-0aff4e6f9516",
   "metadata": {
    "colab": {
     "base_uri": "https://localhost:8080/"
    },
    "id": "9f7a8d1e-a8af-441e-aba8-0aff4e6f9516",
    "outputId": "ab34602f-6966-40d1-ec61-91039b4e0955"
   },
   "outputs": [
    {
     "data": {
      "text/plain": [
       "Index(['unique_id', 'h1n1_worry', 'h1n1_awareness', 'antiviral_medication',\n",
       "       'contact_avoidance', 'bought_face_mask', 'wash_hands_frequently',\n",
       "       'avoid_large_gatherings', 'reduced_outside_home_cont',\n",
       "       'avoid_touch_face', 'dr_recc_h1n1_vacc', 'dr_recc_seasonal_vacc',\n",
       "       'chronic_medic_condition', 'cont_child_undr_6_mnths',\n",
       "       'is_health_worker', 'has_health_insur', 'is_h1n1_vacc_effective',\n",
       "       'is_h1n1_risky', 'sick_from_h1n1_vacc', 'is_seas_vacc_effective',\n",
       "       'is_seas_risky', 'sick_from_seas_vacc', 'age_bracket', 'qualification',\n",
       "       'race', 'sex', 'income_level', 'marital_status', 'housing_status',\n",
       "       'employment', 'census_msa', 'no_of_adults', 'no_of_children',\n",
       "       'h1n1_vaccine'],\n",
       "      dtype='object')"
      ]
     },
     "execution_count": 297,
     "metadata": {},
     "output_type": "execute_result"
    }
   ],
   "source": [
    "data.columns"
   ]
  },
  {
   "cell_type": "markdown",
   "id": "4c4fe29b-c93e-4d00-b3fc-bd89cafb369b",
   "metadata": {
    "id": "4c4fe29b-c93e-4d00-b3fc-bd89cafb369b"
   },
   "source": [
    "#### THINGS TO DEAL IN THIS DATA\n",
    "2. missing values\n",
    "3. chategorical main ordinal and nominal data\n",
    "4. skewness"
   ]
  },
  {
   "cell_type": "code",
   "execution_count": 298,
   "id": "88820482-c17c-494c-b218-b2bbc9b2dae5",
   "metadata": {
    "id": "88820482-c17c-494c-b218-b2bbc9b2dae5"
   },
   "outputs": [],
   "source": [
    "data.drop('unique_id', axis = 1, inplace = True)"
   ]
  },
  {
   "cell_type": "code",
   "execution_count": 299,
   "id": "9edae4e9-400d-45a7-8ad5-d11f8c70c096",
   "metadata": {
    "colab": {
     "base_uri": "https://localhost:8080/",
     "height": 426
    },
    "id": "9edae4e9-400d-45a7-8ad5-d11f8c70c096",
    "outputId": "f226ab6a-d447-4139-9745-d2abbb4de4d0"
   },
   "outputs": [
    {
     "data": {
      "text/html": [
       "<div>\n",
       "<style scoped>\n",
       "    .dataframe tbody tr th:only-of-type {\n",
       "        vertical-align: middle;\n",
       "    }\n",
       "\n",
       "    .dataframe tbody tr th {\n",
       "        vertical-align: top;\n",
       "    }\n",
       "\n",
       "    .dataframe thead th {\n",
       "        text-align: right;\n",
       "    }\n",
       "</style>\n",
       "<table border=\"1\" class=\"dataframe\">\n",
       "  <thead>\n",
       "    <tr style=\"text-align: right;\">\n",
       "      <th></th>\n",
       "      <th>h1n1_worry</th>\n",
       "      <th>h1n1_awareness</th>\n",
       "      <th>antiviral_medication</th>\n",
       "      <th>contact_avoidance</th>\n",
       "      <th>bought_face_mask</th>\n",
       "      <th>wash_hands_frequently</th>\n",
       "      <th>avoid_large_gatherings</th>\n",
       "      <th>reduced_outside_home_cont</th>\n",
       "      <th>avoid_touch_face</th>\n",
       "      <th>dr_recc_h1n1_vacc</th>\n",
       "      <th>dr_recc_seasonal_vacc</th>\n",
       "      <th>chronic_medic_condition</th>\n",
       "      <th>cont_child_undr_6_mnths</th>\n",
       "      <th>is_health_worker</th>\n",
       "      <th>has_health_insur</th>\n",
       "      <th>is_h1n1_vacc_effective</th>\n",
       "      <th>is_h1n1_risky</th>\n",
       "      <th>sick_from_h1n1_vacc</th>\n",
       "      <th>is_seas_vacc_effective</th>\n",
       "      <th>is_seas_risky</th>\n",
       "      <th>sick_from_seas_vacc</th>\n",
       "      <th>age_bracket</th>\n",
       "      <th>qualification</th>\n",
       "      <th>race</th>\n",
       "      <th>sex</th>\n",
       "      <th>income_level</th>\n",
       "      <th>marital_status</th>\n",
       "      <th>housing_status</th>\n",
       "      <th>employment</th>\n",
       "      <th>census_msa</th>\n",
       "      <th>no_of_adults</th>\n",
       "      <th>no_of_children</th>\n",
       "      <th>h1n1_vaccine</th>\n",
       "    </tr>\n",
       "  </thead>\n",
       "  <tbody>\n",
       "    <tr>\n",
       "      <th>0</th>\n",
       "      <td>1.0</td>\n",
       "      <td>0.0</td>\n",
       "      <td>0.0</td>\n",
       "      <td>0.0</td>\n",
       "      <td>0.0</td>\n",
       "      <td>0.0</td>\n",
       "      <td>0.0</td>\n",
       "      <td>1.0</td>\n",
       "      <td>1.0</td>\n",
       "      <td>0.0</td>\n",
       "      <td>0.0</td>\n",
       "      <td>0.0</td>\n",
       "      <td>0.0</td>\n",
       "      <td>0.0</td>\n",
       "      <td>1.0</td>\n",
       "      <td>3.0</td>\n",
       "      <td>1.0</td>\n",
       "      <td>2.0</td>\n",
       "      <td>2.0</td>\n",
       "      <td>1.0</td>\n",
       "      <td>2.0</td>\n",
       "      <td>55 - 64 Years</td>\n",
       "      <td>&lt; 12 Years</td>\n",
       "      <td>White</td>\n",
       "      <td>Female</td>\n",
       "      <td>Below Poverty</td>\n",
       "      <td>Not Married</td>\n",
       "      <td>Own</td>\n",
       "      <td>Not in Labor Force</td>\n",
       "      <td>Non-MSA</td>\n",
       "      <td>0.0</td>\n",
       "      <td>0.0</td>\n",
       "      <td>0</td>\n",
       "    </tr>\n",
       "    <tr>\n",
       "      <th>1</th>\n",
       "      <td>3.0</td>\n",
       "      <td>2.0</td>\n",
       "      <td>0.0</td>\n",
       "      <td>1.0</td>\n",
       "      <td>0.0</td>\n",
       "      <td>1.0</td>\n",
       "      <td>0.0</td>\n",
       "      <td>1.0</td>\n",
       "      <td>1.0</td>\n",
       "      <td>0.0</td>\n",
       "      <td>0.0</td>\n",
       "      <td>0.0</td>\n",
       "      <td>0.0</td>\n",
       "      <td>0.0</td>\n",
       "      <td>1.0</td>\n",
       "      <td>5.0</td>\n",
       "      <td>4.0</td>\n",
       "      <td>4.0</td>\n",
       "      <td>4.0</td>\n",
       "      <td>2.0</td>\n",
       "      <td>4.0</td>\n",
       "      <td>35 - 44 Years</td>\n",
       "      <td>12 Years</td>\n",
       "      <td>White</td>\n",
       "      <td>Male</td>\n",
       "      <td>Below Poverty</td>\n",
       "      <td>Not Married</td>\n",
       "      <td>Rent</td>\n",
       "      <td>Employed</td>\n",
       "      <td>MSA, Not Principle  City</td>\n",
       "      <td>0.0</td>\n",
       "      <td>0.0</td>\n",
       "      <td>0</td>\n",
       "    </tr>\n",
       "    <tr>\n",
       "      <th>2</th>\n",
       "      <td>1.0</td>\n",
       "      <td>1.0</td>\n",
       "      <td>0.0</td>\n",
       "      <td>1.0</td>\n",
       "      <td>0.0</td>\n",
       "      <td>0.0</td>\n",
       "      <td>0.0</td>\n",
       "      <td>0.0</td>\n",
       "      <td>0.0</td>\n",
       "      <td>NaN</td>\n",
       "      <td>NaN</td>\n",
       "      <td>1.0</td>\n",
       "      <td>0.0</td>\n",
       "      <td>0.0</td>\n",
       "      <td>NaN</td>\n",
       "      <td>3.0</td>\n",
       "      <td>1.0</td>\n",
       "      <td>1.0</td>\n",
       "      <td>4.0</td>\n",
       "      <td>1.0</td>\n",
       "      <td>2.0</td>\n",
       "      <td>18 - 34 Years</td>\n",
       "      <td>College Graduate</td>\n",
       "      <td>White</td>\n",
       "      <td>Male</td>\n",
       "      <td>&lt;= $75,000, Above Poverty</td>\n",
       "      <td>Not Married</td>\n",
       "      <td>Own</td>\n",
       "      <td>Employed</td>\n",
       "      <td>MSA, Not Principle  City</td>\n",
       "      <td>2.0</td>\n",
       "      <td>0.0</td>\n",
       "      <td>0</td>\n",
       "    </tr>\n",
       "    <tr>\n",
       "      <th>3</th>\n",
       "      <td>1.0</td>\n",
       "      <td>1.0</td>\n",
       "      <td>0.0</td>\n",
       "      <td>1.0</td>\n",
       "      <td>0.0</td>\n",
       "      <td>1.0</td>\n",
       "      <td>1.0</td>\n",
       "      <td>0.0</td>\n",
       "      <td>0.0</td>\n",
       "      <td>0.0</td>\n",
       "      <td>1.0</td>\n",
       "      <td>1.0</td>\n",
       "      <td>0.0</td>\n",
       "      <td>0.0</td>\n",
       "      <td>NaN</td>\n",
       "      <td>3.0</td>\n",
       "      <td>3.0</td>\n",
       "      <td>5.0</td>\n",
       "      <td>5.0</td>\n",
       "      <td>4.0</td>\n",
       "      <td>1.0</td>\n",
       "      <td>65+ Years</td>\n",
       "      <td>12 Years</td>\n",
       "      <td>White</td>\n",
       "      <td>Female</td>\n",
       "      <td>Below Poverty</td>\n",
       "      <td>Not Married</td>\n",
       "      <td>Rent</td>\n",
       "      <td>Not in Labor Force</td>\n",
       "      <td>MSA, Principle City</td>\n",
       "      <td>0.0</td>\n",
       "      <td>0.0</td>\n",
       "      <td>0</td>\n",
       "    </tr>\n",
       "    <tr>\n",
       "      <th>4</th>\n",
       "      <td>2.0</td>\n",
       "      <td>1.0</td>\n",
       "      <td>0.0</td>\n",
       "      <td>1.0</td>\n",
       "      <td>0.0</td>\n",
       "      <td>1.0</td>\n",
       "      <td>1.0</td>\n",
       "      <td>0.0</td>\n",
       "      <td>1.0</td>\n",
       "      <td>0.0</td>\n",
       "      <td>0.0</td>\n",
       "      <td>0.0</td>\n",
       "      <td>0.0</td>\n",
       "      <td>0.0</td>\n",
       "      <td>NaN</td>\n",
       "      <td>3.0</td>\n",
       "      <td>3.0</td>\n",
       "      <td>2.0</td>\n",
       "      <td>3.0</td>\n",
       "      <td>1.0</td>\n",
       "      <td>4.0</td>\n",
       "      <td>45 - 54 Years</td>\n",
       "      <td>Some College</td>\n",
       "      <td>White</td>\n",
       "      <td>Female</td>\n",
       "      <td>&lt;= $75,000, Above Poverty</td>\n",
       "      <td>Married</td>\n",
       "      <td>Own</td>\n",
       "      <td>Employed</td>\n",
       "      <td>MSA, Not Principle  City</td>\n",
       "      <td>1.0</td>\n",
       "      <td>0.0</td>\n",
       "      <td>0</td>\n",
       "    </tr>\n",
       "  </tbody>\n",
       "</table>\n",
       "</div>"
      ],
      "text/plain": [
       "   h1n1_worry  h1n1_awareness  antiviral_medication  contact_avoidance  \\\n",
       "0         1.0             0.0                   0.0                0.0   \n",
       "1         3.0             2.0                   0.0                1.0   \n",
       "2         1.0             1.0                   0.0                1.0   \n",
       "3         1.0             1.0                   0.0                1.0   \n",
       "4         2.0             1.0                   0.0                1.0   \n",
       "\n",
       "   bought_face_mask  wash_hands_frequently  avoid_large_gatherings  \\\n",
       "0               0.0                    0.0                     0.0   \n",
       "1               0.0                    1.0                     0.0   \n",
       "2               0.0                    0.0                     0.0   \n",
       "3               0.0                    1.0                     1.0   \n",
       "4               0.0                    1.0                     1.0   \n",
       "\n",
       "   reduced_outside_home_cont  avoid_touch_face  dr_recc_h1n1_vacc  \\\n",
       "0                        1.0               1.0                0.0   \n",
       "1                        1.0               1.0                0.0   \n",
       "2                        0.0               0.0                NaN   \n",
       "3                        0.0               0.0                0.0   \n",
       "4                        0.0               1.0                0.0   \n",
       "\n",
       "   dr_recc_seasonal_vacc  chronic_medic_condition  cont_child_undr_6_mnths  \\\n",
       "0                    0.0                      0.0                      0.0   \n",
       "1                    0.0                      0.0                      0.0   \n",
       "2                    NaN                      1.0                      0.0   \n",
       "3                    1.0                      1.0                      0.0   \n",
       "4                    0.0                      0.0                      0.0   \n",
       "\n",
       "   is_health_worker  has_health_insur  is_h1n1_vacc_effective  is_h1n1_risky  \\\n",
       "0               0.0               1.0                     3.0            1.0   \n",
       "1               0.0               1.0                     5.0            4.0   \n",
       "2               0.0               NaN                     3.0            1.0   \n",
       "3               0.0               NaN                     3.0            3.0   \n",
       "4               0.0               NaN                     3.0            3.0   \n",
       "\n",
       "   sick_from_h1n1_vacc  is_seas_vacc_effective  is_seas_risky  \\\n",
       "0                  2.0                     2.0            1.0   \n",
       "1                  4.0                     4.0            2.0   \n",
       "2                  1.0                     4.0            1.0   \n",
       "3                  5.0                     5.0            4.0   \n",
       "4                  2.0                     3.0            1.0   \n",
       "\n",
       "   sick_from_seas_vacc    age_bracket     qualification   race     sex  \\\n",
       "0                  2.0  55 - 64 Years        < 12 Years  White  Female   \n",
       "1                  4.0  35 - 44 Years          12 Years  White    Male   \n",
       "2                  2.0  18 - 34 Years  College Graduate  White    Male   \n",
       "3                  1.0      65+ Years          12 Years  White  Female   \n",
       "4                  4.0  45 - 54 Years      Some College  White  Female   \n",
       "\n",
       "                income_level marital_status housing_status  \\\n",
       "0              Below Poverty    Not Married            Own   \n",
       "1              Below Poverty    Not Married           Rent   \n",
       "2  <= $75,000, Above Poverty    Not Married            Own   \n",
       "3              Below Poverty    Not Married           Rent   \n",
       "4  <= $75,000, Above Poverty        Married            Own   \n",
       "\n",
       "           employment                census_msa  no_of_adults  no_of_children  \\\n",
       "0  Not in Labor Force                   Non-MSA           0.0             0.0   \n",
       "1            Employed  MSA, Not Principle  City           0.0             0.0   \n",
       "2            Employed  MSA, Not Principle  City           2.0             0.0   \n",
       "3  Not in Labor Force       MSA, Principle City           0.0             0.0   \n",
       "4            Employed  MSA, Not Principle  City           1.0             0.0   \n",
       "\n",
       "   h1n1_vaccine  \n",
       "0             0  \n",
       "1             0  \n",
       "2             0  \n",
       "3             0  \n",
       "4             0  "
      ]
     },
     "execution_count": 299,
     "metadata": {},
     "output_type": "execute_result"
    }
   ],
   "source": [
    "data.head()"
   ]
  },
  {
   "cell_type": "code",
   "execution_count": 300,
   "id": "d9b619b0-2025-4a16-9629-3e77177a44f5",
   "metadata": {
    "id": "d9b619b0-2025-4a16-9629-3e77177a44f5"
   },
   "outputs": [],
   "source": [
    "# col_to_convert = data.iloc[:,::]"
   ]
  },
  {
   "cell_type": "code",
   "execution_count": 301,
   "id": "098d7402-ec9a-4d98-a00f-b2adec46d013",
   "metadata": {
    "colab": {
     "base_uri": "https://localhost:8080/"
    },
    "id": "098d7402-ec9a-4d98-a00f-b2adec46d013",
    "outputId": "0b068d91-6b7a-49e4-e422-3389621d252a"
   },
   "outputs": [],
   "source": [
    "# data[] = data.astype(object)\n",
    "# data.info()"
   ]
  },
  {
   "cell_type": "code",
   "execution_count": 302,
   "id": "34cba263-09c9-4e58-be95-63e30ec0a023",
   "metadata": {
    "colab": {
     "base_uri": "https://localhost:8080/"
    },
    "id": "34cba263-09c9-4e58-be95-63e30ec0a023",
    "outputId": "3d2d66b1-2813-4f62-f683-507366339d15"
   },
   "outputs": [
    {
     "data": {
      "text/plain": [
       "h1n1_worry                      92\n",
       "h1n1_awareness                 116\n",
       "antiviral_medication            71\n",
       "contact_avoidance              208\n",
       "bought_face_mask                19\n",
       "wash_hands_frequently           42\n",
       "avoid_large_gatherings          87\n",
       "reduced_outside_home_cont       82\n",
       "avoid_touch_face               128\n",
       "dr_recc_h1n1_vacc             2160\n",
       "dr_recc_seasonal_vacc         2160\n",
       "chronic_medic_condition        971\n",
       "cont_child_undr_6_mnths        820\n",
       "is_health_worker               804\n",
       "has_health_insur             12274\n",
       "is_h1n1_vacc_effective         391\n",
       "is_h1n1_risky                  388\n",
       "sick_from_h1n1_vacc            395\n",
       "is_seas_vacc_effective         462\n",
       "is_seas_risky                  514\n",
       "sick_from_seas_vacc            537\n",
       "age_bracket                      0\n",
       "qualification                 1407\n",
       "race                             0\n",
       "sex                              0\n",
       "income_level                  4423\n",
       "marital_status                1408\n",
       "housing_status                2042\n",
       "employment                    1463\n",
       "census_msa                       0\n",
       "no_of_adults                   249\n",
       "no_of_children                 249\n",
       "h1n1_vaccine                     0\n",
       "dtype: int64"
      ]
     },
     "execution_count": 302,
     "metadata": {},
     "output_type": "execute_result"
    }
   ],
   "source": [
    "data.isnull().sum()"
   ]
  },
  {
   "cell_type": "code",
   "execution_count": 303,
   "id": "0237f090-9ccc-48bb-a103-52dc71c81ea0",
   "metadata": {},
   "outputs": [],
   "source": [
    "## out of 32 columns, only 5 columns do not have missing values\n",
    "## there are around 27 columns which have missing data and need to be handled"
   ]
  },
  {
   "cell_type": "code",
   "execution_count": 304,
   "id": "0c2e6b0b-fd4f-49ff-959a-1cf240a75115",
   "metadata": {},
   "outputs": [
    {
     "data": {
      "text/html": [
       "<div>\n",
       "<style scoped>\n",
       "    .dataframe tbody tr th:only-of-type {\n",
       "        vertical-align: middle;\n",
       "    }\n",
       "\n",
       "    .dataframe tbody tr th {\n",
       "        vertical-align: top;\n",
       "    }\n",
       "\n",
       "    .dataframe thead th {\n",
       "        text-align: right;\n",
       "    }\n",
       "</style>\n",
       "<table border=\"1\" class=\"dataframe\">\n",
       "  <thead>\n",
       "    <tr style=\"text-align: right;\">\n",
       "      <th></th>\n",
       "      <th>h1n1_worry</th>\n",
       "      <th>h1n1_awareness</th>\n",
       "      <th>antiviral_medication</th>\n",
       "      <th>contact_avoidance</th>\n",
       "      <th>bought_face_mask</th>\n",
       "      <th>wash_hands_frequently</th>\n",
       "      <th>avoid_large_gatherings</th>\n",
       "      <th>reduced_outside_home_cont</th>\n",
       "      <th>avoid_touch_face</th>\n",
       "      <th>dr_recc_h1n1_vacc</th>\n",
       "      <th>dr_recc_seasonal_vacc</th>\n",
       "      <th>chronic_medic_condition</th>\n",
       "      <th>cont_child_undr_6_mnths</th>\n",
       "      <th>is_health_worker</th>\n",
       "      <th>has_health_insur</th>\n",
       "      <th>is_h1n1_vacc_effective</th>\n",
       "      <th>is_h1n1_risky</th>\n",
       "      <th>sick_from_h1n1_vacc</th>\n",
       "      <th>is_seas_vacc_effective</th>\n",
       "      <th>is_seas_risky</th>\n",
       "      <th>sick_from_seas_vacc</th>\n",
       "      <th>age_bracket</th>\n",
       "      <th>qualification</th>\n",
       "      <th>race</th>\n",
       "      <th>sex</th>\n",
       "      <th>income_level</th>\n",
       "      <th>marital_status</th>\n",
       "      <th>housing_status</th>\n",
       "      <th>employment</th>\n",
       "      <th>census_msa</th>\n",
       "      <th>no_of_adults</th>\n",
       "      <th>no_of_children</th>\n",
       "      <th>h1n1_vaccine</th>\n",
       "    </tr>\n",
       "  </thead>\n",
       "  <tbody>\n",
       "    <tr>\n",
       "      <th>0</th>\n",
       "      <td>1.0</td>\n",
       "      <td>0.0</td>\n",
       "      <td>0.0</td>\n",
       "      <td>0.0</td>\n",
       "      <td>0.0</td>\n",
       "      <td>0.0</td>\n",
       "      <td>0.0</td>\n",
       "      <td>1.0</td>\n",
       "      <td>1.0</td>\n",
       "      <td>0.0</td>\n",
       "      <td>0.0</td>\n",
       "      <td>0.0</td>\n",
       "      <td>0.0</td>\n",
       "      <td>0.0</td>\n",
       "      <td>1.0</td>\n",
       "      <td>3.0</td>\n",
       "      <td>1.0</td>\n",
       "      <td>2.0</td>\n",
       "      <td>2.0</td>\n",
       "      <td>1.0</td>\n",
       "      <td>2.0</td>\n",
       "      <td>55 - 64 Years</td>\n",
       "      <td>&lt; 12 Years</td>\n",
       "      <td>White</td>\n",
       "      <td>Female</td>\n",
       "      <td>Below Poverty</td>\n",
       "      <td>Not Married</td>\n",
       "      <td>Own</td>\n",
       "      <td>Not in Labor Force</td>\n",
       "      <td>Non-MSA</td>\n",
       "      <td>0.0</td>\n",
       "      <td>0.0</td>\n",
       "      <td>0</td>\n",
       "    </tr>\n",
       "    <tr>\n",
       "      <th>1</th>\n",
       "      <td>3.0</td>\n",
       "      <td>2.0</td>\n",
       "      <td>0.0</td>\n",
       "      <td>1.0</td>\n",
       "      <td>0.0</td>\n",
       "      <td>1.0</td>\n",
       "      <td>0.0</td>\n",
       "      <td>1.0</td>\n",
       "      <td>1.0</td>\n",
       "      <td>0.0</td>\n",
       "      <td>0.0</td>\n",
       "      <td>0.0</td>\n",
       "      <td>0.0</td>\n",
       "      <td>0.0</td>\n",
       "      <td>1.0</td>\n",
       "      <td>5.0</td>\n",
       "      <td>4.0</td>\n",
       "      <td>4.0</td>\n",
       "      <td>4.0</td>\n",
       "      <td>2.0</td>\n",
       "      <td>4.0</td>\n",
       "      <td>35 - 44 Years</td>\n",
       "      <td>12 Years</td>\n",
       "      <td>White</td>\n",
       "      <td>Male</td>\n",
       "      <td>Below Poverty</td>\n",
       "      <td>Not Married</td>\n",
       "      <td>Rent</td>\n",
       "      <td>Employed</td>\n",
       "      <td>MSA, Not Principle  City</td>\n",
       "      <td>0.0</td>\n",
       "      <td>0.0</td>\n",
       "      <td>0</td>\n",
       "    </tr>\n",
       "    <tr>\n",
       "      <th>2</th>\n",
       "      <td>1.0</td>\n",
       "      <td>1.0</td>\n",
       "      <td>0.0</td>\n",
       "      <td>1.0</td>\n",
       "      <td>0.0</td>\n",
       "      <td>0.0</td>\n",
       "      <td>0.0</td>\n",
       "      <td>0.0</td>\n",
       "      <td>0.0</td>\n",
       "      <td>NaN</td>\n",
       "      <td>NaN</td>\n",
       "      <td>1.0</td>\n",
       "      <td>0.0</td>\n",
       "      <td>0.0</td>\n",
       "      <td>NaN</td>\n",
       "      <td>3.0</td>\n",
       "      <td>1.0</td>\n",
       "      <td>1.0</td>\n",
       "      <td>4.0</td>\n",
       "      <td>1.0</td>\n",
       "      <td>2.0</td>\n",
       "      <td>18 - 34 Years</td>\n",
       "      <td>College Graduate</td>\n",
       "      <td>White</td>\n",
       "      <td>Male</td>\n",
       "      <td>&lt;= $75,000, Above Poverty</td>\n",
       "      <td>Not Married</td>\n",
       "      <td>Own</td>\n",
       "      <td>Employed</td>\n",
       "      <td>MSA, Not Principle  City</td>\n",
       "      <td>2.0</td>\n",
       "      <td>0.0</td>\n",
       "      <td>0</td>\n",
       "    </tr>\n",
       "  </tbody>\n",
       "</table>\n",
       "</div>"
      ],
      "text/plain": [
       "   h1n1_worry  h1n1_awareness  antiviral_medication  contact_avoidance  \\\n",
       "0         1.0             0.0                   0.0                0.0   \n",
       "1         3.0             2.0                   0.0                1.0   \n",
       "2         1.0             1.0                   0.0                1.0   \n",
       "\n",
       "   bought_face_mask  wash_hands_frequently  avoid_large_gatherings  \\\n",
       "0               0.0                    0.0                     0.0   \n",
       "1               0.0                    1.0                     0.0   \n",
       "2               0.0                    0.0                     0.0   \n",
       "\n",
       "   reduced_outside_home_cont  avoid_touch_face  dr_recc_h1n1_vacc  \\\n",
       "0                        1.0               1.0                0.0   \n",
       "1                        1.0               1.0                0.0   \n",
       "2                        0.0               0.0                NaN   \n",
       "\n",
       "   dr_recc_seasonal_vacc  chronic_medic_condition  cont_child_undr_6_mnths  \\\n",
       "0                    0.0                      0.0                      0.0   \n",
       "1                    0.0                      0.0                      0.0   \n",
       "2                    NaN                      1.0                      0.0   \n",
       "\n",
       "   is_health_worker  has_health_insur  is_h1n1_vacc_effective  is_h1n1_risky  \\\n",
       "0               0.0               1.0                     3.0            1.0   \n",
       "1               0.0               1.0                     5.0            4.0   \n",
       "2               0.0               NaN                     3.0            1.0   \n",
       "\n",
       "   sick_from_h1n1_vacc  is_seas_vacc_effective  is_seas_risky  \\\n",
       "0                  2.0                     2.0            1.0   \n",
       "1                  4.0                     4.0            2.0   \n",
       "2                  1.0                     4.0            1.0   \n",
       "\n",
       "   sick_from_seas_vacc    age_bracket     qualification   race     sex  \\\n",
       "0                  2.0  55 - 64 Years        < 12 Years  White  Female   \n",
       "1                  4.0  35 - 44 Years          12 Years  White    Male   \n",
       "2                  2.0  18 - 34 Years  College Graduate  White    Male   \n",
       "\n",
       "                income_level marital_status housing_status  \\\n",
       "0              Below Poverty    Not Married            Own   \n",
       "1              Below Poverty    Not Married           Rent   \n",
       "2  <= $75,000, Above Poverty    Not Married            Own   \n",
       "\n",
       "           employment                census_msa  no_of_adults  no_of_children  \\\n",
       "0  Not in Labor Force                   Non-MSA           0.0             0.0   \n",
       "1            Employed  MSA, Not Principle  City           0.0             0.0   \n",
       "2            Employed  MSA, Not Principle  City           2.0             0.0   \n",
       "\n",
       "   h1n1_vaccine  \n",
       "0             0  \n",
       "1             0  \n",
       "2             0  "
      ]
     },
     "execution_count": 304,
     "metadata": {},
     "output_type": "execute_result"
    }
   ],
   "source": [
    "data.head(3)\n"
   ]
  },
  {
   "cell_type": "code",
   "execution_count": 305,
   "id": "fe3e963f-aa91-4703-86f4-2bed5f2a5787",
   "metadata": {
    "id": "fe3e963f-aa91-4703-86f4-2bed5f2a5787"
   },
   "outputs": [],
   "source": [
    "# has_health insur has more thna 50% data missing from the columns, hence dropping this\n",
    "data.drop('has_health_insur', axis = 1, inplace = True)"
   ]
  },
  {
   "cell_type": "code",
   "execution_count": 306,
   "id": "f4d721af-063f-455e-8825-a4859543d71e",
   "metadata": {
    "colab": {
     "base_uri": "https://localhost:8080/"
    },
    "id": "f4d721af-063f-455e-8825-a4859543d71e",
    "outputId": "6ad30298-1cd3-4d23-d184-cc9f8d58bce4"
   },
   "outputs": [
    {
     "data": {
      "text/plain": [
       "(26707, 32)"
      ]
     },
     "execution_count": 306,
     "metadata": {},
     "output_type": "execute_result"
    }
   ],
   "source": [
    "data.shape"
   ]
  },
  {
   "cell_type": "code",
   "execution_count": null,
   "id": "e75a93e5-2008-462e-9917-533a495c140e",
   "metadata": {},
   "outputs": [],
   "source": []
  },
  {
   "cell_type": "code",
   "execution_count": 307,
   "id": "216658e7-f6ec-4a11-98fa-e680f3bbfd1f",
   "metadata": {},
   "outputs": [
    {
     "data": {
      "text/plain": [
       "['h1n1_worry',\n",
       " 'h1n1_awareness',\n",
       " 'antiviral_medication',\n",
       " 'contact_avoidance',\n",
       " 'bought_face_mask',\n",
       " 'wash_hands_frequently',\n",
       " 'avoid_large_gatherings',\n",
       " 'reduced_outside_home_cont',\n",
       " 'avoid_touch_face',\n",
       " 'is_h1n1_vacc_effective',\n",
       " 'is_h1n1_risky',\n",
       " 'sick_from_h1n1_vacc',\n",
       " 'is_seas_vacc_effective',\n",
       " 'is_seas_risky',\n",
       " 'sick_from_seas_vacc',\n",
       " 'no_of_adults',\n",
       " 'no_of_children']"
      ]
     },
     "execution_count": 307,
     "metadata": {},
     "output_type": "execute_result"
    }
   ],
   "source": [
    "## create a list of variables with data less than 150 observaions\n",
    "data_drop_list = []\n",
    "data_big = []\n",
    "for i in data:\n",
    "    if data[i].isnull().sum() > 0 and data[i].isnull().sum() < 600:\n",
    "        data_drop_list.append(i)\n",
    "    elif data[i].isnull().sum() > 600:\n",
    "        data_big.append(i)\n",
    "\n",
    "data_drop_list"
   ]
  },
  {
   "cell_type": "code",
   "execution_count": 308,
   "id": "c4c0a62b-1895-4c8a-a9e2-9c24218edf22",
   "metadata": {},
   "outputs": [],
   "source": [
    "data.dropna(subset = data_drop_list,inplace = True)"
   ]
  },
  {
   "cell_type": "code",
   "execution_count": 309,
   "id": "036d9ca0-4832-44f4-b709-ab9aae87af9a",
   "metadata": {},
   "outputs": [
    {
     "data": {
      "text/plain": [
       "(25238, 32)"
      ]
     },
     "execution_count": 309,
     "metadata": {},
     "output_type": "execute_result"
    }
   ],
   "source": [
    "data.shape"
   ]
  },
  {
   "cell_type": "code",
   "execution_count": 310,
   "id": "06e3dc97-9a69-4d71-8892-190f0e59d6a1",
   "metadata": {},
   "outputs": [],
   "source": [
    "del_obs = 26707 - data.shape[0]\n",
    "## we have removed 960 data observations\n",
    "## which is only 3-4% of data of observation"
   ]
  },
  {
   "cell_type": "code",
   "execution_count": 311,
   "id": "829c939d-48cb-46f3-8e80-3727c647abaf",
   "metadata": {},
   "outputs": [
    {
     "data": {
      "text/plain": [
       "5.500430598719437"
      ]
     },
     "execution_count": 311,
     "metadata": {},
     "output_type": "execute_result"
    }
   ],
   "source": [
    "# 5% obs removed from data\n",
    "del_obs*100/26707"
   ]
  },
  {
   "cell_type": "code",
   "execution_count": 312,
   "id": "1bce31d7-68d0-47b9-a779-31238618a515",
   "metadata": {
    "colab": {
     "base_uri": "https://localhost:8080/"
    },
    "id": "1bce31d7-68d0-47b9-a779-31238618a515",
    "outputId": "00960e31-6c38-4f59-895e-d15dd874ae39"
   },
   "outputs": [
    {
     "data": {
      "text/plain": [
       "h1n1_worry                      0\n",
       "h1n1_awareness                  0\n",
       "antiviral_medication            0\n",
       "contact_avoidance               0\n",
       "bought_face_mask                0\n",
       "wash_hands_frequently           0\n",
       "avoid_large_gatherings          0\n",
       "reduced_outside_home_cont       0\n",
       "avoid_touch_face                0\n",
       "dr_recc_h1n1_vacc            1869\n",
       "dr_recc_seasonal_vacc        1869\n",
       "chronic_medic_condition       368\n",
       "cont_child_undr_6_mnths       202\n",
       "is_health_worker              197\n",
       "is_h1n1_vacc_effective          0\n",
       "is_h1n1_risky                   0\n",
       "sick_from_h1n1_vacc             0\n",
       "is_seas_vacc_effective          0\n",
       "is_seas_risky                   0\n",
       "sick_from_seas_vacc             0\n",
       "age_bracket                     0\n",
       "qualification                 739\n",
       "race                            0\n",
       "sex                             0\n",
       "income_level                 3548\n",
       "marital_status                746\n",
       "housing_status               1341\n",
       "employment                    794\n",
       "census_msa                      0\n",
       "no_of_adults                    0\n",
       "no_of_children                  0\n",
       "h1n1_vaccine                    0\n",
       "dtype: int64"
      ]
     },
     "execution_count": 312,
     "metadata": {},
     "output_type": "execute_result"
    }
   ],
   "source": [
    "data.isnull().sum()"
   ]
  },
  {
   "cell_type": "code",
   "execution_count": 313,
   "id": "a7e3f2a8-9a24-4dd1-8ede-b4ecdb1b9c04",
   "metadata": {
    "id": "a7e3f2a8-9a24-4dd1-8ede-b4ecdb1b9c04"
   },
   "outputs": [
    {
     "name": "stdout",
     "output_type": "stream",
     "text": [
      "<class 'pandas.core.frame.DataFrame'>\n",
      "Int64Index: 25238 entries, 0 to 26706\n",
      "Data columns (total 10 columns):\n",
      " #   Column                   Non-Null Count  Dtype  \n",
      "---  ------                   --------------  -----  \n",
      " 0   dr_recc_h1n1_vacc        23369 non-null  float64\n",
      " 1   dr_recc_seasonal_vacc    23369 non-null  float64\n",
      " 2   chronic_medic_condition  24870 non-null  float64\n",
      " 3   cont_child_undr_6_mnths  25036 non-null  float64\n",
      " 4   is_health_worker         25041 non-null  float64\n",
      " 5   qualification            24499 non-null  object \n",
      " 6   income_level             21690 non-null  object \n",
      " 7   marital_status           24492 non-null  object \n",
      " 8   housing_status           23897 non-null  object \n",
      " 9   employment               24444 non-null  object \n",
      "dtypes: float64(5), object(5)\n",
      "memory usage: 2.1+ MB\n"
     ]
    }
   ],
   "source": [
    "data[data_big].info()"
   ]
  },
  {
   "cell_type": "raw",
   "id": "32229fd0-89d8-4f07-8c15-d949de0556cd",
   "metadata": {},
   "source": [
    "int_list = []\n",
    "obj_list = []\n",
    "for i in data_list:\n",
    "    if data[i].dtypes is object:\n",
    "        int_list.append[i]\n"
   ]
  },
  {
   "cell_type": "code",
   "execution_count": 314,
   "id": "3a0abeaa-cb46-41e1-80eb-4d4581cb1e63",
   "metadata": {},
   "outputs": [
    {
     "data": {
      "text/plain": [
       "dtype('float64')"
      ]
     },
     "execution_count": 314,
     "metadata": {},
     "output_type": "execute_result"
    }
   ],
   "source": [
    "data['dr_recc_h1n1_vacc'].dtypes"
   ]
  },
  {
   "cell_type": "code",
   "execution_count": 315,
   "id": "5f688c33-3091-4f55-abbe-cf6def44c33c",
   "metadata": {
    "colab": {
     "base_uri": "https://localhost:8080/"
    },
    "id": "5f688c33-3091-4f55-abbe-cf6def44c33c",
    "outputId": "c364ca8c-3e75-4ffe-e2de-2ec6064bf19b"
   },
   "outputs": [
    {
     "data": {
      "text/plain": [
       "h1n1_worry                   0\n",
       "h1n1_awareness               0\n",
       "antiviral_medication         0\n",
       "contact_avoidance            0\n",
       "bought_face_mask             0\n",
       "wash_hands_frequently        0\n",
       "avoid_large_gatherings       0\n",
       "reduced_outside_home_cont    0\n",
       "avoid_touch_face             0\n",
       "dr_recc_h1n1_vacc            0\n",
       "dr_recc_seasonal_vacc        0\n",
       "chronic_medic_condition      0\n",
       "cont_child_undr_6_mnths      0\n",
       "is_health_worker             0\n",
       "is_h1n1_vacc_effective       0\n",
       "is_h1n1_risky                0\n",
       "sick_from_h1n1_vacc          0\n",
       "is_seas_vacc_effective       0\n",
       "is_seas_risky                0\n",
       "sick_from_seas_vacc          0\n",
       "age_bracket                  0\n",
       "qualification                0\n",
       "race                         0\n",
       "sex                          0\n",
       "income_level                 0\n",
       "marital_status               0\n",
       "housing_status               0\n",
       "employment                   0\n",
       "census_msa                   0\n",
       "no_of_adults                 0\n",
       "no_of_children               0\n",
       "h1n1_vaccine                 0\n",
       "dtype: int64"
      ]
     },
     "execution_count": 315,
     "metadata": {},
     "output_type": "execute_result"
    }
   ],
   "source": [
    "data.fillna(0,inplace = True)\n",
    "data.isnull().sum()"
   ]
  },
  {
   "cell_type": "code",
   "execution_count": 316,
   "id": "28ab308d-c8c8-4501-af70-cdc7f990c0f0",
   "metadata": {
    "colab": {
     "base_uri": "https://localhost:8080/"
    },
    "id": "28ab308d-c8c8-4501-af70-cdc7f990c0f0",
    "outputId": "cf45e09a-594a-46e0-e7c8-e0f66cdd14c2"
   },
   "outputs": [
    {
     "data": {
      "text/plain": [
       "(25238, 32)"
      ]
     },
     "execution_count": 316,
     "metadata": {},
     "output_type": "execute_result"
    }
   ],
   "source": [
    "data.shape"
   ]
  },
  {
   "cell_type": "markdown",
   "id": "0b9fba38-7983-450a-a349-0b08924504f6",
   "metadata": {},
   "source": [
    "- h1n1_worry                      92 ---done\n",
    "- h1n1_awareness                 116 ---done\n",
    "- antiviral_medication            71 ---done\n",
    "- contact_avoidance              208 ----done\n",
    "- bought_face_mask                19 ---done\n",
    "- wash_hands_frequently           42 ---done\n",
    "- avoid_large_gatherings          87 ---done\n",
    "- reduced_outside_home_cont       82 ---done\n",
    "- avoid_touch_face               128 ---done\n",
    "- dr_recc_h1n1_vacc             2160\n",
    "- dr_recc_seasonal_vacc         2160\n",
    "- chronic_medic_condition        971\n",
    "- cont_child_undr_6_mnths        820\n",
    "- is_health_worker               804\n",
    "- has_health_insur             12274 ----done\n",
    "- is_h1n1_vacc_effective         391\n",
    "- is_h1n1_risky                  388\n",
    "- sick_from_h1n1_vacc            395\n",
    "- is_seas_vacc_effective         462\n",
    "- is_seas_risky                  514\n",
    "- sick_from_seas_vacc            537\n",
    "- age_bracket                      0 ----done\n",
    "- qualification                 1407\n",
    "- race                             0 ----done\n",
    "- sex                              0 ----done\n",
    "- income_level                  4423\n",
    "- marital_status                1408\n",
    "- housing_status                2042\n",
    "- employment                    1463\n",
    "- census_msa                       0 ----done\n",
    "- no_of_adults                   249 ----done\n",
    "- no_of_children                 249 ----done\n",
    "- h1n1_vaccine                     0 ----done"
   ]
  },
  {
   "cell_type": "code",
   "execution_count": 317,
   "id": "a1feaf1e-dbb5-42ab-a149-d562fcd1b666",
   "metadata": {},
   "outputs": [
    {
     "data": {
      "text/html": [
       "<div>\n",
       "<style scoped>\n",
       "    .dataframe tbody tr th:only-of-type {\n",
       "        vertical-align: middle;\n",
       "    }\n",
       "\n",
       "    .dataframe tbody tr th {\n",
       "        vertical-align: top;\n",
       "    }\n",
       "\n",
       "    .dataframe thead th {\n",
       "        text-align: right;\n",
       "    }\n",
       "</style>\n",
       "<table border=\"1\" class=\"dataframe\">\n",
       "  <thead>\n",
       "    <tr style=\"text-align: right;\">\n",
       "      <th></th>\n",
       "      <th>dr_recc_h1n1_vacc</th>\n",
       "      <th>dr_recc_seasonal_vacc</th>\n",
       "      <th>chronic_medic_condition</th>\n",
       "      <th>cont_child_undr_6_mnths</th>\n",
       "      <th>is_health_worker</th>\n",
       "      <th>qualification</th>\n",
       "      <th>income_level</th>\n",
       "      <th>marital_status</th>\n",
       "      <th>housing_status</th>\n",
       "      <th>employment</th>\n",
       "    </tr>\n",
       "  </thead>\n",
       "  <tbody>\n",
       "    <tr>\n",
       "      <th>0</th>\n",
       "      <td>0.0</td>\n",
       "      <td>0.0</td>\n",
       "      <td>0.0</td>\n",
       "      <td>0.0</td>\n",
       "      <td>0.0</td>\n",
       "      <td>&lt; 12 Years</td>\n",
       "      <td>Below Poverty</td>\n",
       "      <td>Not Married</td>\n",
       "      <td>Own</td>\n",
       "      <td>Not in Labor Force</td>\n",
       "    </tr>\n",
       "    <tr>\n",
       "      <th>1</th>\n",
       "      <td>0.0</td>\n",
       "      <td>0.0</td>\n",
       "      <td>0.0</td>\n",
       "      <td>0.0</td>\n",
       "      <td>0.0</td>\n",
       "      <td>12 Years</td>\n",
       "      <td>Below Poverty</td>\n",
       "      <td>Not Married</td>\n",
       "      <td>Rent</td>\n",
       "      <td>Employed</td>\n",
       "    </tr>\n",
       "    <tr>\n",
       "      <th>2</th>\n",
       "      <td>0.0</td>\n",
       "      <td>0.0</td>\n",
       "      <td>1.0</td>\n",
       "      <td>0.0</td>\n",
       "      <td>0.0</td>\n",
       "      <td>College Graduate</td>\n",
       "      <td>&lt;= $75,000, Above Poverty</td>\n",
       "      <td>Not Married</td>\n",
       "      <td>Own</td>\n",
       "      <td>Employed</td>\n",
       "    </tr>\n",
       "    <tr>\n",
       "      <th>3</th>\n",
       "      <td>0.0</td>\n",
       "      <td>1.0</td>\n",
       "      <td>1.0</td>\n",
       "      <td>0.0</td>\n",
       "      <td>0.0</td>\n",
       "      <td>12 Years</td>\n",
       "      <td>Below Poverty</td>\n",
       "      <td>Not Married</td>\n",
       "      <td>Rent</td>\n",
       "      <td>Not in Labor Force</td>\n",
       "    </tr>\n",
       "    <tr>\n",
       "      <th>4</th>\n",
       "      <td>0.0</td>\n",
       "      <td>0.0</td>\n",
       "      <td>0.0</td>\n",
       "      <td>0.0</td>\n",
       "      <td>0.0</td>\n",
       "      <td>Some College</td>\n",
       "      <td>&lt;= $75,000, Above Poverty</td>\n",
       "      <td>Married</td>\n",
       "      <td>Own</td>\n",
       "      <td>Employed</td>\n",
       "    </tr>\n",
       "  </tbody>\n",
       "</table>\n",
       "</div>"
      ],
      "text/plain": [
       "   dr_recc_h1n1_vacc  dr_recc_seasonal_vacc  chronic_medic_condition  \\\n",
       "0                0.0                    0.0                      0.0   \n",
       "1                0.0                    0.0                      0.0   \n",
       "2                0.0                    0.0                      1.0   \n",
       "3                0.0                    1.0                      1.0   \n",
       "4                0.0                    0.0                      0.0   \n",
       "\n",
       "   cont_child_undr_6_mnths  is_health_worker     qualification  \\\n",
       "0                      0.0               0.0        < 12 Years   \n",
       "1                      0.0               0.0          12 Years   \n",
       "2                      0.0               0.0  College Graduate   \n",
       "3                      0.0               0.0          12 Years   \n",
       "4                      0.0               0.0      Some College   \n",
       "\n",
       "                income_level marital_status housing_status          employment  \n",
       "0              Below Poverty    Not Married            Own  Not in Labor Force  \n",
       "1              Below Poverty    Not Married           Rent            Employed  \n",
       "2  <= $75,000, Above Poverty    Not Married            Own            Employed  \n",
       "3              Below Poverty    Not Married           Rent  Not in Labor Force  \n",
       "4  <= $75,000, Above Poverty        Married            Own            Employed  "
      ]
     },
     "execution_count": 317,
     "metadata": {},
     "output_type": "execute_result"
    }
   ],
   "source": [
    "data[data_big].head()"
   ]
  },
  {
   "cell_type": "code",
   "execution_count": null,
   "id": "9a553095-30a5-4ba3-95b2-1ed27224422f",
   "metadata": {},
   "outputs": [],
   "source": []
  },
  {
   "cell_type": "markdown",
   "id": "398d69cd-8c73-4f12-ab79-22387a29e5f2",
   "metadata": {
    "id": "398d69cd-8c73-4f12-ab79-22387a29e5f2"
   },
   "source": [
    "## CHATERGORICAL COLUMN DEALING\n",
    "\n",
    "1. ordinal = mapping\n",
    "2. nominal = sparse"
   ]
  },
  {
   "cell_type": "code",
   "execution_count": 318,
   "id": "91e9c876-5dbf-4a82-91bf-55a944d64e55",
   "metadata": {
    "colab": {
     "base_uri": "https://localhost:8080/"
    },
    "id": "91e9c876-5dbf-4a82-91bf-55a944d64e55",
    "outputId": "b198c5b8-7b36-470a-8baf-8746160b38c6"
   },
   "outputs": [
    {
     "data": {
      "text/plain": [
       "h1n1_worry                   4\n",
       "h1n1_awareness               3\n",
       "antiviral_medication         2\n",
       "contact_avoidance            2\n",
       "bought_face_mask             2\n",
       "wash_hands_frequently        2\n",
       "avoid_large_gatherings       2\n",
       "reduced_outside_home_cont    2\n",
       "avoid_touch_face             2\n",
       "dr_recc_h1n1_vacc            2\n",
       "dr_recc_seasonal_vacc        2\n",
       "chronic_medic_condition      2\n",
       "cont_child_undr_6_mnths      2\n",
       "is_health_worker             2\n",
       "is_h1n1_vacc_effective       5\n",
       "is_h1n1_risky                5\n",
       "sick_from_h1n1_vacc          5\n",
       "is_seas_vacc_effective       5\n",
       "is_seas_risky                5\n",
       "sick_from_seas_vacc          5\n",
       "age_bracket                  5\n",
       "qualification                5\n",
       "race                         4\n",
       "sex                          2\n",
       "income_level                 4\n",
       "marital_status               3\n",
       "housing_status               3\n",
       "employment                   4\n",
       "census_msa                   3\n",
       "no_of_adults                 4\n",
       "no_of_children               4\n",
       "h1n1_vaccine                 2\n",
       "dtype: int64"
      ]
     },
     "execution_count": 318,
     "metadata": {},
     "output_type": "execute_result"
    }
   ],
   "source": [
    "data.nunique()\n"
   ]
  },
  {
   "cell_type": "code",
   "execution_count": 319,
   "id": "b3b3428a-bf74-4729-bbe5-97e8111f9923",
   "metadata": {
    "id": "b3b3428a-bf74-4729-bbe5-97e8111f9923"
   },
   "outputs": [],
   "source": [
    "nom_data =['race', 'sex','marital_status', 'housing_status', 'employment', 'census_msa']"
   ]
  },
  {
   "cell_type": "code",
   "execution_count": 320,
   "id": "8dbfbe2d-357d-4d9d-a5c7-7c09deec02cb",
   "metadata": {
    "id": "8dbfbe2d-357d-4d9d-a5c7-7c09deec02cb"
   },
   "outputs": [],
   "source": [
    "data_new = pd.get_dummies(data[nom_data], drop_first=True)"
   ]
  },
  {
   "cell_type": "code",
   "execution_count": 321,
   "id": "bb5a284e-ace3-4564-be6c-294d23237103",
   "metadata": {
    "colab": {
     "base_uri": "https://localhost:8080/"
    },
    "id": "bb5a284e-ace3-4564-be6c-294d23237103",
    "outputId": "587ff713-508e-4625-d5af-b207e3b371ba"
   },
   "outputs": [
    {
     "data": {
      "text/plain": [
       "(25238, 32)"
      ]
     },
     "execution_count": 321,
     "metadata": {},
     "output_type": "execute_result"
    }
   ],
   "source": [
    "data.shape"
   ]
  },
  {
   "cell_type": "code",
   "execution_count": 322,
   "id": "943a6a69-96d6-4cff-a82d-6f158221f796",
   "metadata": {
    "id": "943a6a69-96d6-4cff-a82d-6f158221f796"
   },
   "outputs": [],
   "source": [
    "data = data.drop(nom_data, axis = 1)"
   ]
  },
  {
   "cell_type": "code",
   "execution_count": 323,
   "id": "e1cb4d2b-5f1e-406b-ade7-59865ba22adc",
   "metadata": {
    "colab": {
     "base_uri": "https://localhost:8080/",
     "height": 339
    },
    "id": "e1cb4d2b-5f1e-406b-ade7-59865ba22adc",
    "outputId": "0ca420b0-4297-4fd6-db98-8564fc7be6e9"
   },
   "outputs": [
    {
     "data": {
      "text/html": [
       "<div>\n",
       "<style scoped>\n",
       "    .dataframe tbody tr th:only-of-type {\n",
       "        vertical-align: middle;\n",
       "    }\n",
       "\n",
       "    .dataframe tbody tr th {\n",
       "        vertical-align: top;\n",
       "    }\n",
       "\n",
       "    .dataframe thead th {\n",
       "        text-align: right;\n",
       "    }\n",
       "</style>\n",
       "<table border=\"1\" class=\"dataframe\">\n",
       "  <thead>\n",
       "    <tr style=\"text-align: right;\">\n",
       "      <th></th>\n",
       "      <th>h1n1_worry</th>\n",
       "      <th>h1n1_awareness</th>\n",
       "      <th>antiviral_medication</th>\n",
       "      <th>contact_avoidance</th>\n",
       "      <th>bought_face_mask</th>\n",
       "      <th>wash_hands_frequently</th>\n",
       "      <th>avoid_large_gatherings</th>\n",
       "      <th>reduced_outside_home_cont</th>\n",
       "      <th>avoid_touch_face</th>\n",
       "      <th>dr_recc_h1n1_vacc</th>\n",
       "      <th>dr_recc_seasonal_vacc</th>\n",
       "      <th>chronic_medic_condition</th>\n",
       "      <th>cont_child_undr_6_mnths</th>\n",
       "      <th>is_health_worker</th>\n",
       "      <th>is_h1n1_vacc_effective</th>\n",
       "      <th>is_h1n1_risky</th>\n",
       "      <th>sick_from_h1n1_vacc</th>\n",
       "      <th>is_seas_vacc_effective</th>\n",
       "      <th>is_seas_risky</th>\n",
       "      <th>sick_from_seas_vacc</th>\n",
       "      <th>age_bracket</th>\n",
       "      <th>qualification</th>\n",
       "      <th>income_level</th>\n",
       "      <th>no_of_adults</th>\n",
       "      <th>no_of_children</th>\n",
       "      <th>h1n1_vaccine</th>\n",
       "      <th>race_Hispanic</th>\n",
       "      <th>race_Other or Multiple</th>\n",
       "      <th>race_White</th>\n",
       "      <th>sex_Male</th>\n",
       "      <th>marital_status_Married</th>\n",
       "      <th>marital_status_Not Married</th>\n",
       "      <th>housing_status_Own</th>\n",
       "      <th>housing_status_Rent</th>\n",
       "      <th>employment_Employed</th>\n",
       "      <th>employment_Not in Labor Force</th>\n",
       "      <th>employment_Unemployed</th>\n",
       "      <th>census_msa_MSA, Principle City</th>\n",
       "      <th>census_msa_Non-MSA</th>\n",
       "    </tr>\n",
       "  </thead>\n",
       "  <tbody>\n",
       "    <tr>\n",
       "      <th>0</th>\n",
       "      <td>1.0</td>\n",
       "      <td>0.0</td>\n",
       "      <td>0.0</td>\n",
       "      <td>0.0</td>\n",
       "      <td>0.0</td>\n",
       "      <td>0.0</td>\n",
       "      <td>0.0</td>\n",
       "      <td>1.0</td>\n",
       "      <td>1.0</td>\n",
       "      <td>0.0</td>\n",
       "      <td>0.0</td>\n",
       "      <td>0.0</td>\n",
       "      <td>0.0</td>\n",
       "      <td>0.0</td>\n",
       "      <td>3.0</td>\n",
       "      <td>1.0</td>\n",
       "      <td>2.0</td>\n",
       "      <td>2.0</td>\n",
       "      <td>1.0</td>\n",
       "      <td>2.0</td>\n",
       "      <td>55 - 64 Years</td>\n",
       "      <td>&lt; 12 Years</td>\n",
       "      <td>Below Poverty</td>\n",
       "      <td>0.0</td>\n",
       "      <td>0.0</td>\n",
       "      <td>0</td>\n",
       "      <td>0</td>\n",
       "      <td>0</td>\n",
       "      <td>1</td>\n",
       "      <td>0</td>\n",
       "      <td>0</td>\n",
       "      <td>1</td>\n",
       "      <td>1</td>\n",
       "      <td>0</td>\n",
       "      <td>0</td>\n",
       "      <td>1</td>\n",
       "      <td>0</td>\n",
       "      <td>0</td>\n",
       "      <td>1</td>\n",
       "    </tr>\n",
       "    <tr>\n",
       "      <th>1</th>\n",
       "      <td>3.0</td>\n",
       "      <td>2.0</td>\n",
       "      <td>0.0</td>\n",
       "      <td>1.0</td>\n",
       "      <td>0.0</td>\n",
       "      <td>1.0</td>\n",
       "      <td>0.0</td>\n",
       "      <td>1.0</td>\n",
       "      <td>1.0</td>\n",
       "      <td>0.0</td>\n",
       "      <td>0.0</td>\n",
       "      <td>0.0</td>\n",
       "      <td>0.0</td>\n",
       "      <td>0.0</td>\n",
       "      <td>5.0</td>\n",
       "      <td>4.0</td>\n",
       "      <td>4.0</td>\n",
       "      <td>4.0</td>\n",
       "      <td>2.0</td>\n",
       "      <td>4.0</td>\n",
       "      <td>35 - 44 Years</td>\n",
       "      <td>12 Years</td>\n",
       "      <td>Below Poverty</td>\n",
       "      <td>0.0</td>\n",
       "      <td>0.0</td>\n",
       "      <td>0</td>\n",
       "      <td>0</td>\n",
       "      <td>0</td>\n",
       "      <td>1</td>\n",
       "      <td>1</td>\n",
       "      <td>0</td>\n",
       "      <td>1</td>\n",
       "      <td>0</td>\n",
       "      <td>1</td>\n",
       "      <td>1</td>\n",
       "      <td>0</td>\n",
       "      <td>0</td>\n",
       "      <td>0</td>\n",
       "      <td>0</td>\n",
       "    </tr>\n",
       "    <tr>\n",
       "      <th>2</th>\n",
       "      <td>1.0</td>\n",
       "      <td>1.0</td>\n",
       "      <td>0.0</td>\n",
       "      <td>1.0</td>\n",
       "      <td>0.0</td>\n",
       "      <td>0.0</td>\n",
       "      <td>0.0</td>\n",
       "      <td>0.0</td>\n",
       "      <td>0.0</td>\n",
       "      <td>0.0</td>\n",
       "      <td>0.0</td>\n",
       "      <td>1.0</td>\n",
       "      <td>0.0</td>\n",
       "      <td>0.0</td>\n",
       "      <td>3.0</td>\n",
       "      <td>1.0</td>\n",
       "      <td>1.0</td>\n",
       "      <td>4.0</td>\n",
       "      <td>1.0</td>\n",
       "      <td>2.0</td>\n",
       "      <td>18 - 34 Years</td>\n",
       "      <td>College Graduate</td>\n",
       "      <td>&lt;= $75,000, Above Poverty</td>\n",
       "      <td>2.0</td>\n",
       "      <td>0.0</td>\n",
       "      <td>0</td>\n",
       "      <td>0</td>\n",
       "      <td>0</td>\n",
       "      <td>1</td>\n",
       "      <td>1</td>\n",
       "      <td>0</td>\n",
       "      <td>1</td>\n",
       "      <td>1</td>\n",
       "      <td>0</td>\n",
       "      <td>1</td>\n",
       "      <td>0</td>\n",
       "      <td>0</td>\n",
       "      <td>0</td>\n",
       "      <td>0</td>\n",
       "    </tr>\n",
       "    <tr>\n",
       "      <th>3</th>\n",
       "      <td>1.0</td>\n",
       "      <td>1.0</td>\n",
       "      <td>0.0</td>\n",
       "      <td>1.0</td>\n",
       "      <td>0.0</td>\n",
       "      <td>1.0</td>\n",
       "      <td>1.0</td>\n",
       "      <td>0.0</td>\n",
       "      <td>0.0</td>\n",
       "      <td>0.0</td>\n",
       "      <td>1.0</td>\n",
       "      <td>1.0</td>\n",
       "      <td>0.0</td>\n",
       "      <td>0.0</td>\n",
       "      <td>3.0</td>\n",
       "      <td>3.0</td>\n",
       "      <td>5.0</td>\n",
       "      <td>5.0</td>\n",
       "      <td>4.0</td>\n",
       "      <td>1.0</td>\n",
       "      <td>65+ Years</td>\n",
       "      <td>12 Years</td>\n",
       "      <td>Below Poverty</td>\n",
       "      <td>0.0</td>\n",
       "      <td>0.0</td>\n",
       "      <td>0</td>\n",
       "      <td>0</td>\n",
       "      <td>0</td>\n",
       "      <td>1</td>\n",
       "      <td>0</td>\n",
       "      <td>0</td>\n",
       "      <td>1</td>\n",
       "      <td>0</td>\n",
       "      <td>1</td>\n",
       "      <td>0</td>\n",
       "      <td>1</td>\n",
       "      <td>0</td>\n",
       "      <td>1</td>\n",
       "      <td>0</td>\n",
       "    </tr>\n",
       "    <tr>\n",
       "      <th>4</th>\n",
       "      <td>2.0</td>\n",
       "      <td>1.0</td>\n",
       "      <td>0.0</td>\n",
       "      <td>1.0</td>\n",
       "      <td>0.0</td>\n",
       "      <td>1.0</td>\n",
       "      <td>1.0</td>\n",
       "      <td>0.0</td>\n",
       "      <td>1.0</td>\n",
       "      <td>0.0</td>\n",
       "      <td>0.0</td>\n",
       "      <td>0.0</td>\n",
       "      <td>0.0</td>\n",
       "      <td>0.0</td>\n",
       "      <td>3.0</td>\n",
       "      <td>3.0</td>\n",
       "      <td>2.0</td>\n",
       "      <td>3.0</td>\n",
       "      <td>1.0</td>\n",
       "      <td>4.0</td>\n",
       "      <td>45 - 54 Years</td>\n",
       "      <td>Some College</td>\n",
       "      <td>&lt;= $75,000, Above Poverty</td>\n",
       "      <td>1.0</td>\n",
       "      <td>0.0</td>\n",
       "      <td>0</td>\n",
       "      <td>0</td>\n",
       "      <td>0</td>\n",
       "      <td>1</td>\n",
       "      <td>0</td>\n",
       "      <td>1</td>\n",
       "      <td>0</td>\n",
       "      <td>1</td>\n",
       "      <td>0</td>\n",
       "      <td>1</td>\n",
       "      <td>0</td>\n",
       "      <td>0</td>\n",
       "      <td>0</td>\n",
       "      <td>0</td>\n",
       "    </tr>\n",
       "  </tbody>\n",
       "</table>\n",
       "</div>"
      ],
      "text/plain": [
       "   h1n1_worry  h1n1_awareness  antiviral_medication  contact_avoidance  \\\n",
       "0         1.0             0.0                   0.0                0.0   \n",
       "1         3.0             2.0                   0.0                1.0   \n",
       "2         1.0             1.0                   0.0                1.0   \n",
       "3         1.0             1.0                   0.0                1.0   \n",
       "4         2.0             1.0                   0.0                1.0   \n",
       "\n",
       "   bought_face_mask  wash_hands_frequently  avoid_large_gatherings  \\\n",
       "0               0.0                    0.0                     0.0   \n",
       "1               0.0                    1.0                     0.0   \n",
       "2               0.0                    0.0                     0.0   \n",
       "3               0.0                    1.0                     1.0   \n",
       "4               0.0                    1.0                     1.0   \n",
       "\n",
       "   reduced_outside_home_cont  avoid_touch_face  dr_recc_h1n1_vacc  \\\n",
       "0                        1.0               1.0                0.0   \n",
       "1                        1.0               1.0                0.0   \n",
       "2                        0.0               0.0                0.0   \n",
       "3                        0.0               0.0                0.0   \n",
       "4                        0.0               1.0                0.0   \n",
       "\n",
       "   dr_recc_seasonal_vacc  chronic_medic_condition  cont_child_undr_6_mnths  \\\n",
       "0                    0.0                      0.0                      0.0   \n",
       "1                    0.0                      0.0                      0.0   \n",
       "2                    0.0                      1.0                      0.0   \n",
       "3                    1.0                      1.0                      0.0   \n",
       "4                    0.0                      0.0                      0.0   \n",
       "\n",
       "   is_health_worker  is_h1n1_vacc_effective  is_h1n1_risky  \\\n",
       "0               0.0                     3.0            1.0   \n",
       "1               0.0                     5.0            4.0   \n",
       "2               0.0                     3.0            1.0   \n",
       "3               0.0                     3.0            3.0   \n",
       "4               0.0                     3.0            3.0   \n",
       "\n",
       "   sick_from_h1n1_vacc  is_seas_vacc_effective  is_seas_risky  \\\n",
       "0                  2.0                     2.0            1.0   \n",
       "1                  4.0                     4.0            2.0   \n",
       "2                  1.0                     4.0            1.0   \n",
       "3                  5.0                     5.0            4.0   \n",
       "4                  2.0                     3.0            1.0   \n",
       "\n",
       "   sick_from_seas_vacc    age_bracket     qualification  \\\n",
       "0                  2.0  55 - 64 Years        < 12 Years   \n",
       "1                  4.0  35 - 44 Years          12 Years   \n",
       "2                  2.0  18 - 34 Years  College Graduate   \n",
       "3                  1.0      65+ Years          12 Years   \n",
       "4                  4.0  45 - 54 Years      Some College   \n",
       "\n",
       "                income_level  no_of_adults  no_of_children  h1n1_vaccine  \\\n",
       "0              Below Poverty           0.0             0.0             0   \n",
       "1              Below Poverty           0.0             0.0             0   \n",
       "2  <= $75,000, Above Poverty           2.0             0.0             0   \n",
       "3              Below Poverty           0.0             0.0             0   \n",
       "4  <= $75,000, Above Poverty           1.0             0.0             0   \n",
       "\n",
       "   race_Hispanic  race_Other or Multiple  race_White  sex_Male  \\\n",
       "0              0                       0           1         0   \n",
       "1              0                       0           1         1   \n",
       "2              0                       0           1         1   \n",
       "3              0                       0           1         0   \n",
       "4              0                       0           1         0   \n",
       "\n",
       "   marital_status_Married  marital_status_Not Married  housing_status_Own  \\\n",
       "0                       0                           1                   1   \n",
       "1                       0                           1                   0   \n",
       "2                       0                           1                   1   \n",
       "3                       0                           1                   0   \n",
       "4                       1                           0                   1   \n",
       "\n",
       "   housing_status_Rent  employment_Employed  employment_Not in Labor Force  \\\n",
       "0                    0                    0                              1   \n",
       "1                    1                    1                              0   \n",
       "2                    0                    1                              0   \n",
       "3                    1                    0                              1   \n",
       "4                    0                    1                              0   \n",
       "\n",
       "   employment_Unemployed  census_msa_MSA, Principle City  census_msa_Non-MSA  \n",
       "0                      0                               0                   1  \n",
       "1                      0                               0                   0  \n",
       "2                      0                               0                   0  \n",
       "3                      0                               1                   0  \n",
       "4                      0                               0                   0  "
      ]
     },
     "execution_count": 323,
     "metadata": {},
     "output_type": "execute_result"
    }
   ],
   "source": [
    "data = pd.concat([data,data_new], axis =1)\n",
    "data.head()"
   ]
  },
  {
   "cell_type": "code",
   "execution_count": 324,
   "id": "b4218cf0-6c3f-43cf-b2c6-9db08b9c5023",
   "metadata": {
    "colab": {
     "base_uri": "https://localhost:8080/"
    },
    "id": "b4218cf0-6c3f-43cf-b2c6-9db08b9c5023",
    "outputId": "cf4f0758-dd2b-45e6-bafa-fc81b15f0bbc"
   },
   "outputs": [
    {
     "data": {
      "text/plain": [
       "(25238, 39)"
      ]
     },
     "execution_count": 324,
     "metadata": {},
     "output_type": "execute_result"
    }
   ],
   "source": [
    "data.shape"
   ]
  },
  {
   "cell_type": "code",
   "execution_count": 325,
   "id": "TcubKzqVrhJR",
   "metadata": {
    "colab": {
     "base_uri": "https://localhost:8080/"
    },
    "id": "TcubKzqVrhJR",
    "outputId": "dd94ef1e-9bc6-4377-8ba4-ddd352cf58f6"
   },
   "outputs": [
    {
     "data": {
      "text/plain": [
       "array(['Below Poverty', '<= $75,000, Above Poverty', '> $75,000', 0],\n",
       "      dtype=object)"
      ]
     },
     "execution_count": 325,
     "metadata": {},
     "output_type": "execute_result"
    }
   ],
   "source": [
    "data['income_level'].unique()"
   ]
  },
  {
   "cell_type": "code",
   "execution_count": 326,
   "id": "N7cAhLrkx1Bf",
   "metadata": {
    "colab": {
     "base_uri": "https://localhost:8080/",
     "height": 305
    },
    "id": "N7cAhLrkx1Bf",
    "outputId": "3ac9e47e-0c4c-49aa-dfaf-0c48fb92b15d"
   },
   "outputs": [
    {
     "data": {
      "text/html": [
       "<div>\n",
       "<style scoped>\n",
       "    .dataframe tbody tr th:only-of-type {\n",
       "        vertical-align: middle;\n",
       "    }\n",
       "\n",
       "    .dataframe tbody tr th {\n",
       "        vertical-align: top;\n",
       "    }\n",
       "\n",
       "    .dataframe thead th {\n",
       "        text-align: right;\n",
       "    }\n",
       "</style>\n",
       "<table border=\"1\" class=\"dataframe\">\n",
       "  <thead>\n",
       "    <tr style=\"text-align: right;\">\n",
       "      <th></th>\n",
       "      <th>h1n1_worry</th>\n",
       "      <th>h1n1_awareness</th>\n",
       "      <th>antiviral_medication</th>\n",
       "      <th>contact_avoidance</th>\n",
       "      <th>bought_face_mask</th>\n",
       "      <th>wash_hands_frequently</th>\n",
       "      <th>avoid_large_gatherings</th>\n",
       "      <th>reduced_outside_home_cont</th>\n",
       "      <th>avoid_touch_face</th>\n",
       "      <th>dr_recc_h1n1_vacc</th>\n",
       "      <th>dr_recc_seasonal_vacc</th>\n",
       "      <th>chronic_medic_condition</th>\n",
       "      <th>cont_child_undr_6_mnths</th>\n",
       "      <th>is_health_worker</th>\n",
       "      <th>is_h1n1_vacc_effective</th>\n",
       "      <th>is_h1n1_risky</th>\n",
       "      <th>sick_from_h1n1_vacc</th>\n",
       "      <th>is_seas_vacc_effective</th>\n",
       "      <th>is_seas_risky</th>\n",
       "      <th>sick_from_seas_vacc</th>\n",
       "      <th>age_bracket</th>\n",
       "      <th>qualification</th>\n",
       "      <th>income_level</th>\n",
       "      <th>no_of_adults</th>\n",
       "      <th>no_of_children</th>\n",
       "      <th>h1n1_vaccine</th>\n",
       "      <th>race_Hispanic</th>\n",
       "      <th>race_Other or Multiple</th>\n",
       "      <th>race_White</th>\n",
       "      <th>sex_Male</th>\n",
       "      <th>marital_status_Married</th>\n",
       "      <th>marital_status_Not Married</th>\n",
       "      <th>housing_status_Own</th>\n",
       "      <th>housing_status_Rent</th>\n",
       "      <th>employment_Employed</th>\n",
       "      <th>employment_Not in Labor Force</th>\n",
       "      <th>employment_Unemployed</th>\n",
       "      <th>census_msa_MSA, Principle City</th>\n",
       "      <th>census_msa_Non-MSA</th>\n",
       "    </tr>\n",
       "  </thead>\n",
       "  <tbody>\n",
       "    <tr>\n",
       "      <th>0</th>\n",
       "      <td>1.0</td>\n",
       "      <td>0.0</td>\n",
       "      <td>0.0</td>\n",
       "      <td>0.0</td>\n",
       "      <td>0.0</td>\n",
       "      <td>0.0</td>\n",
       "      <td>0.0</td>\n",
       "      <td>1.0</td>\n",
       "      <td>1.0</td>\n",
       "      <td>0.0</td>\n",
       "      <td>0.0</td>\n",
       "      <td>0.0</td>\n",
       "      <td>0.0</td>\n",
       "      <td>0.0</td>\n",
       "      <td>3.0</td>\n",
       "      <td>1.0</td>\n",
       "      <td>2.0</td>\n",
       "      <td>2.0</td>\n",
       "      <td>1.0</td>\n",
       "      <td>2.0</td>\n",
       "      <td>0</td>\n",
       "      <td>0</td>\n",
       "      <td>0</td>\n",
       "      <td>0.0</td>\n",
       "      <td>0.0</td>\n",
       "      <td>0</td>\n",
       "      <td>0</td>\n",
       "      <td>0</td>\n",
       "      <td>1</td>\n",
       "      <td>0</td>\n",
       "      <td>0</td>\n",
       "      <td>1</td>\n",
       "      <td>1</td>\n",
       "      <td>0</td>\n",
       "      <td>0</td>\n",
       "      <td>1</td>\n",
       "      <td>0</td>\n",
       "      <td>0</td>\n",
       "      <td>1</td>\n",
       "    </tr>\n",
       "    <tr>\n",
       "      <th>1</th>\n",
       "      <td>3.0</td>\n",
       "      <td>2.0</td>\n",
       "      <td>0.0</td>\n",
       "      <td>1.0</td>\n",
       "      <td>0.0</td>\n",
       "      <td>1.0</td>\n",
       "      <td>0.0</td>\n",
       "      <td>1.0</td>\n",
       "      <td>1.0</td>\n",
       "      <td>0.0</td>\n",
       "      <td>0.0</td>\n",
       "      <td>0.0</td>\n",
       "      <td>0.0</td>\n",
       "      <td>0.0</td>\n",
       "      <td>5.0</td>\n",
       "      <td>4.0</td>\n",
       "      <td>4.0</td>\n",
       "      <td>4.0</td>\n",
       "      <td>2.0</td>\n",
       "      <td>4.0</td>\n",
       "      <td>1</td>\n",
       "      <td>1</td>\n",
       "      <td>0</td>\n",
       "      <td>0.0</td>\n",
       "      <td>0.0</td>\n",
       "      <td>0</td>\n",
       "      <td>0</td>\n",
       "      <td>0</td>\n",
       "      <td>1</td>\n",
       "      <td>1</td>\n",
       "      <td>0</td>\n",
       "      <td>1</td>\n",
       "      <td>0</td>\n",
       "      <td>1</td>\n",
       "      <td>1</td>\n",
       "      <td>0</td>\n",
       "      <td>0</td>\n",
       "      <td>0</td>\n",
       "      <td>0</td>\n",
       "    </tr>\n",
       "    <tr>\n",
       "      <th>2</th>\n",
       "      <td>1.0</td>\n",
       "      <td>1.0</td>\n",
       "      <td>0.0</td>\n",
       "      <td>1.0</td>\n",
       "      <td>0.0</td>\n",
       "      <td>0.0</td>\n",
       "      <td>0.0</td>\n",
       "      <td>0.0</td>\n",
       "      <td>0.0</td>\n",
       "      <td>0.0</td>\n",
       "      <td>0.0</td>\n",
       "      <td>1.0</td>\n",
       "      <td>0.0</td>\n",
       "      <td>0.0</td>\n",
       "      <td>3.0</td>\n",
       "      <td>1.0</td>\n",
       "      <td>1.0</td>\n",
       "      <td>4.0</td>\n",
       "      <td>1.0</td>\n",
       "      <td>2.0</td>\n",
       "      <td>2</td>\n",
       "      <td>2</td>\n",
       "      <td>1</td>\n",
       "      <td>2.0</td>\n",
       "      <td>0.0</td>\n",
       "      <td>0</td>\n",
       "      <td>0</td>\n",
       "      <td>0</td>\n",
       "      <td>1</td>\n",
       "      <td>1</td>\n",
       "      <td>0</td>\n",
       "      <td>1</td>\n",
       "      <td>1</td>\n",
       "      <td>0</td>\n",
       "      <td>1</td>\n",
       "      <td>0</td>\n",
       "      <td>0</td>\n",
       "      <td>0</td>\n",
       "      <td>0</td>\n",
       "    </tr>\n",
       "    <tr>\n",
       "      <th>3</th>\n",
       "      <td>1.0</td>\n",
       "      <td>1.0</td>\n",
       "      <td>0.0</td>\n",
       "      <td>1.0</td>\n",
       "      <td>0.0</td>\n",
       "      <td>1.0</td>\n",
       "      <td>1.0</td>\n",
       "      <td>0.0</td>\n",
       "      <td>0.0</td>\n",
       "      <td>0.0</td>\n",
       "      <td>1.0</td>\n",
       "      <td>1.0</td>\n",
       "      <td>0.0</td>\n",
       "      <td>0.0</td>\n",
       "      <td>3.0</td>\n",
       "      <td>3.0</td>\n",
       "      <td>5.0</td>\n",
       "      <td>5.0</td>\n",
       "      <td>4.0</td>\n",
       "      <td>1.0</td>\n",
       "      <td>3</td>\n",
       "      <td>1</td>\n",
       "      <td>0</td>\n",
       "      <td>0.0</td>\n",
       "      <td>0.0</td>\n",
       "      <td>0</td>\n",
       "      <td>0</td>\n",
       "      <td>0</td>\n",
       "      <td>1</td>\n",
       "      <td>0</td>\n",
       "      <td>0</td>\n",
       "      <td>1</td>\n",
       "      <td>0</td>\n",
       "      <td>1</td>\n",
       "      <td>0</td>\n",
       "      <td>1</td>\n",
       "      <td>0</td>\n",
       "      <td>1</td>\n",
       "      <td>0</td>\n",
       "    </tr>\n",
       "    <tr>\n",
       "      <th>4</th>\n",
       "      <td>2.0</td>\n",
       "      <td>1.0</td>\n",
       "      <td>0.0</td>\n",
       "      <td>1.0</td>\n",
       "      <td>0.0</td>\n",
       "      <td>1.0</td>\n",
       "      <td>1.0</td>\n",
       "      <td>0.0</td>\n",
       "      <td>1.0</td>\n",
       "      <td>0.0</td>\n",
       "      <td>0.0</td>\n",
       "      <td>0.0</td>\n",
       "      <td>0.0</td>\n",
       "      <td>0.0</td>\n",
       "      <td>3.0</td>\n",
       "      <td>3.0</td>\n",
       "      <td>2.0</td>\n",
       "      <td>3.0</td>\n",
       "      <td>1.0</td>\n",
       "      <td>4.0</td>\n",
       "      <td>4</td>\n",
       "      <td>3</td>\n",
       "      <td>1</td>\n",
       "      <td>1.0</td>\n",
       "      <td>0.0</td>\n",
       "      <td>0</td>\n",
       "      <td>0</td>\n",
       "      <td>0</td>\n",
       "      <td>1</td>\n",
       "      <td>0</td>\n",
       "      <td>1</td>\n",
       "      <td>0</td>\n",
       "      <td>1</td>\n",
       "      <td>0</td>\n",
       "      <td>1</td>\n",
       "      <td>0</td>\n",
       "      <td>0</td>\n",
       "      <td>0</td>\n",
       "      <td>0</td>\n",
       "    </tr>\n",
       "  </tbody>\n",
       "</table>\n",
       "</div>"
      ],
      "text/plain": [
       "   h1n1_worry  h1n1_awareness  antiviral_medication  contact_avoidance  \\\n",
       "0         1.0             0.0                   0.0                0.0   \n",
       "1         3.0             2.0                   0.0                1.0   \n",
       "2         1.0             1.0                   0.0                1.0   \n",
       "3         1.0             1.0                   0.0                1.0   \n",
       "4         2.0             1.0                   0.0                1.0   \n",
       "\n",
       "   bought_face_mask  wash_hands_frequently  avoid_large_gatherings  \\\n",
       "0               0.0                    0.0                     0.0   \n",
       "1               0.0                    1.0                     0.0   \n",
       "2               0.0                    0.0                     0.0   \n",
       "3               0.0                    1.0                     1.0   \n",
       "4               0.0                    1.0                     1.0   \n",
       "\n",
       "   reduced_outside_home_cont  avoid_touch_face  dr_recc_h1n1_vacc  \\\n",
       "0                        1.0               1.0                0.0   \n",
       "1                        1.0               1.0                0.0   \n",
       "2                        0.0               0.0                0.0   \n",
       "3                        0.0               0.0                0.0   \n",
       "4                        0.0               1.0                0.0   \n",
       "\n",
       "   dr_recc_seasonal_vacc  chronic_medic_condition  cont_child_undr_6_mnths  \\\n",
       "0                    0.0                      0.0                      0.0   \n",
       "1                    0.0                      0.0                      0.0   \n",
       "2                    0.0                      1.0                      0.0   \n",
       "3                    1.0                      1.0                      0.0   \n",
       "4                    0.0                      0.0                      0.0   \n",
       "\n",
       "   is_health_worker  is_h1n1_vacc_effective  is_h1n1_risky  \\\n",
       "0               0.0                     3.0            1.0   \n",
       "1               0.0                     5.0            4.0   \n",
       "2               0.0                     3.0            1.0   \n",
       "3               0.0                     3.0            3.0   \n",
       "4               0.0                     3.0            3.0   \n",
       "\n",
       "   sick_from_h1n1_vacc  is_seas_vacc_effective  is_seas_risky  \\\n",
       "0                  2.0                     2.0            1.0   \n",
       "1                  4.0                     4.0            2.0   \n",
       "2                  1.0                     4.0            1.0   \n",
       "3                  5.0                     5.0            4.0   \n",
       "4                  2.0                     3.0            1.0   \n",
       "\n",
       "   sick_from_seas_vacc  age_bracket  qualification  income_level  \\\n",
       "0                  2.0            0              0             0   \n",
       "1                  4.0            1              1             0   \n",
       "2                  2.0            2              2             1   \n",
       "3                  1.0            3              1             0   \n",
       "4                  4.0            4              3             1   \n",
       "\n",
       "   no_of_adults  no_of_children  h1n1_vaccine  race_Hispanic  \\\n",
       "0           0.0             0.0             0              0   \n",
       "1           0.0             0.0             0              0   \n",
       "2           2.0             0.0             0              0   \n",
       "3           0.0             0.0             0              0   \n",
       "4           1.0             0.0             0              0   \n",
       "\n",
       "   race_Other or Multiple  race_White  sex_Male  marital_status_Married  \\\n",
       "0                       0           1         0                       0   \n",
       "1                       0           1         1                       0   \n",
       "2                       0           1         1                       0   \n",
       "3                       0           1         0                       0   \n",
       "4                       0           1         0                       1   \n",
       "\n",
       "   marital_status_Not Married  housing_status_Own  housing_status_Rent  \\\n",
       "0                           1                   1                    0   \n",
       "1                           1                   0                    1   \n",
       "2                           1                   1                    0   \n",
       "3                           1                   0                    1   \n",
       "4                           0                   1                    0   \n",
       "\n",
       "   employment_Employed  employment_Not in Labor Force  employment_Unemployed  \\\n",
       "0                    0                              1                      0   \n",
       "1                    1                              0                      0   \n",
       "2                    1                              0                      0   \n",
       "3                    0                              1                      0   \n",
       "4                    1                              0                      0   \n",
       "\n",
       "   census_msa_MSA, Principle City  census_msa_Non-MSA  \n",
       "0                               0                   1  \n",
       "1                               0                   0  \n",
       "2                               0                   0  \n",
       "3                               1                   0  \n",
       "4                               0                   0  "
      ]
     },
     "execution_count": 326,
     "metadata": {},
     "output_type": "execute_result"
    }
   ],
   "source": [
    "data['income_level'], c = pd.factorize(data['income_level'])\n",
    "data['age_bracket'], c = pd.factorize(data['age_bracket'])\n",
    "data['qualification'], c = pd.factorize(data['qualification'])\n",
    "data.head()"
   ]
  },
  {
   "cell_type": "code",
   "execution_count": 327,
   "id": "lqM0eRM0zZK0",
   "metadata": {
    "colab": {
     "base_uri": "https://localhost:8080/"
    },
    "id": "lqM0eRM0zZK0",
    "outputId": "d45e9065-023a-47f9-9ee4-9d46ab1ba5df"
   },
   "outputs": [
    {
     "data": {
      "text/plain": [
       "(25238, 39)"
      ]
     },
     "execution_count": 327,
     "metadata": {},
     "output_type": "execute_result"
    }
   ],
   "source": [
    "data.shape"
   ]
  },
  {
   "cell_type": "code",
   "execution_count": 328,
   "id": "zUZWrqFazdZY",
   "metadata": {
    "id": "zUZWrqFazdZY"
   },
   "outputs": [],
   "source": [
    "data1 = data['h1n1_vaccine']"
   ]
  },
  {
   "cell_type": "code",
   "execution_count": 329,
   "id": "VHXFCsQOzheh",
   "metadata": {
    "colab": {
     "base_uri": "https://localhost:8080/",
     "height": 305
    },
    "id": "VHXFCsQOzheh",
    "outputId": "27f22888-d9d5-4c71-ede0-6042947e23e8"
   },
   "outputs": [
    {
     "data": {
      "text/html": [
       "<div>\n",
       "<style scoped>\n",
       "    .dataframe tbody tr th:only-of-type {\n",
       "        vertical-align: middle;\n",
       "    }\n",
       "\n",
       "    .dataframe tbody tr th {\n",
       "        vertical-align: top;\n",
       "    }\n",
       "\n",
       "    .dataframe thead th {\n",
       "        text-align: right;\n",
       "    }\n",
       "</style>\n",
       "<table border=\"1\" class=\"dataframe\">\n",
       "  <thead>\n",
       "    <tr style=\"text-align: right;\">\n",
       "      <th></th>\n",
       "      <th>h1n1_worry</th>\n",
       "      <th>h1n1_awareness</th>\n",
       "      <th>antiviral_medication</th>\n",
       "      <th>contact_avoidance</th>\n",
       "      <th>bought_face_mask</th>\n",
       "      <th>wash_hands_frequently</th>\n",
       "      <th>avoid_large_gatherings</th>\n",
       "      <th>reduced_outside_home_cont</th>\n",
       "      <th>avoid_touch_face</th>\n",
       "      <th>dr_recc_h1n1_vacc</th>\n",
       "      <th>dr_recc_seasonal_vacc</th>\n",
       "      <th>chronic_medic_condition</th>\n",
       "      <th>cont_child_undr_6_mnths</th>\n",
       "      <th>is_health_worker</th>\n",
       "      <th>is_h1n1_vacc_effective</th>\n",
       "      <th>is_h1n1_risky</th>\n",
       "      <th>sick_from_h1n1_vacc</th>\n",
       "      <th>is_seas_vacc_effective</th>\n",
       "      <th>is_seas_risky</th>\n",
       "      <th>sick_from_seas_vacc</th>\n",
       "      <th>age_bracket</th>\n",
       "      <th>qualification</th>\n",
       "      <th>income_level</th>\n",
       "      <th>no_of_adults</th>\n",
       "      <th>no_of_children</th>\n",
       "      <th>race_Hispanic</th>\n",
       "      <th>race_Other or Multiple</th>\n",
       "      <th>race_White</th>\n",
       "      <th>sex_Male</th>\n",
       "      <th>marital_status_Married</th>\n",
       "      <th>marital_status_Not Married</th>\n",
       "      <th>housing_status_Own</th>\n",
       "      <th>housing_status_Rent</th>\n",
       "      <th>employment_Employed</th>\n",
       "      <th>employment_Not in Labor Force</th>\n",
       "      <th>employment_Unemployed</th>\n",
       "      <th>census_msa_MSA, Principle City</th>\n",
       "      <th>census_msa_Non-MSA</th>\n",
       "      <th>h1n1_vaccine</th>\n",
       "    </tr>\n",
       "  </thead>\n",
       "  <tbody>\n",
       "    <tr>\n",
       "      <th>0</th>\n",
       "      <td>1.0</td>\n",
       "      <td>0.0</td>\n",
       "      <td>0.0</td>\n",
       "      <td>0.0</td>\n",
       "      <td>0.0</td>\n",
       "      <td>0.0</td>\n",
       "      <td>0.0</td>\n",
       "      <td>1.0</td>\n",
       "      <td>1.0</td>\n",
       "      <td>0.0</td>\n",
       "      <td>0.0</td>\n",
       "      <td>0.0</td>\n",
       "      <td>0.0</td>\n",
       "      <td>0.0</td>\n",
       "      <td>3.0</td>\n",
       "      <td>1.0</td>\n",
       "      <td>2.0</td>\n",
       "      <td>2.0</td>\n",
       "      <td>1.0</td>\n",
       "      <td>2.0</td>\n",
       "      <td>0</td>\n",
       "      <td>0</td>\n",
       "      <td>0</td>\n",
       "      <td>0.0</td>\n",
       "      <td>0.0</td>\n",
       "      <td>0</td>\n",
       "      <td>0</td>\n",
       "      <td>1</td>\n",
       "      <td>0</td>\n",
       "      <td>0</td>\n",
       "      <td>1</td>\n",
       "      <td>1</td>\n",
       "      <td>0</td>\n",
       "      <td>0</td>\n",
       "      <td>1</td>\n",
       "      <td>0</td>\n",
       "      <td>0</td>\n",
       "      <td>1</td>\n",
       "      <td>0</td>\n",
       "    </tr>\n",
       "    <tr>\n",
       "      <th>1</th>\n",
       "      <td>3.0</td>\n",
       "      <td>2.0</td>\n",
       "      <td>0.0</td>\n",
       "      <td>1.0</td>\n",
       "      <td>0.0</td>\n",
       "      <td>1.0</td>\n",
       "      <td>0.0</td>\n",
       "      <td>1.0</td>\n",
       "      <td>1.0</td>\n",
       "      <td>0.0</td>\n",
       "      <td>0.0</td>\n",
       "      <td>0.0</td>\n",
       "      <td>0.0</td>\n",
       "      <td>0.0</td>\n",
       "      <td>5.0</td>\n",
       "      <td>4.0</td>\n",
       "      <td>4.0</td>\n",
       "      <td>4.0</td>\n",
       "      <td>2.0</td>\n",
       "      <td>4.0</td>\n",
       "      <td>1</td>\n",
       "      <td>1</td>\n",
       "      <td>0</td>\n",
       "      <td>0.0</td>\n",
       "      <td>0.0</td>\n",
       "      <td>0</td>\n",
       "      <td>0</td>\n",
       "      <td>1</td>\n",
       "      <td>1</td>\n",
       "      <td>0</td>\n",
       "      <td>1</td>\n",
       "      <td>0</td>\n",
       "      <td>1</td>\n",
       "      <td>1</td>\n",
       "      <td>0</td>\n",
       "      <td>0</td>\n",
       "      <td>0</td>\n",
       "      <td>0</td>\n",
       "      <td>0</td>\n",
       "    </tr>\n",
       "    <tr>\n",
       "      <th>2</th>\n",
       "      <td>1.0</td>\n",
       "      <td>1.0</td>\n",
       "      <td>0.0</td>\n",
       "      <td>1.0</td>\n",
       "      <td>0.0</td>\n",
       "      <td>0.0</td>\n",
       "      <td>0.0</td>\n",
       "      <td>0.0</td>\n",
       "      <td>0.0</td>\n",
       "      <td>0.0</td>\n",
       "      <td>0.0</td>\n",
       "      <td>1.0</td>\n",
       "      <td>0.0</td>\n",
       "      <td>0.0</td>\n",
       "      <td>3.0</td>\n",
       "      <td>1.0</td>\n",
       "      <td>1.0</td>\n",
       "      <td>4.0</td>\n",
       "      <td>1.0</td>\n",
       "      <td>2.0</td>\n",
       "      <td>2</td>\n",
       "      <td>2</td>\n",
       "      <td>1</td>\n",
       "      <td>2.0</td>\n",
       "      <td>0.0</td>\n",
       "      <td>0</td>\n",
       "      <td>0</td>\n",
       "      <td>1</td>\n",
       "      <td>1</td>\n",
       "      <td>0</td>\n",
       "      <td>1</td>\n",
       "      <td>1</td>\n",
       "      <td>0</td>\n",
       "      <td>1</td>\n",
       "      <td>0</td>\n",
       "      <td>0</td>\n",
       "      <td>0</td>\n",
       "      <td>0</td>\n",
       "      <td>0</td>\n",
       "    </tr>\n",
       "    <tr>\n",
       "      <th>3</th>\n",
       "      <td>1.0</td>\n",
       "      <td>1.0</td>\n",
       "      <td>0.0</td>\n",
       "      <td>1.0</td>\n",
       "      <td>0.0</td>\n",
       "      <td>1.0</td>\n",
       "      <td>1.0</td>\n",
       "      <td>0.0</td>\n",
       "      <td>0.0</td>\n",
       "      <td>0.0</td>\n",
       "      <td>1.0</td>\n",
       "      <td>1.0</td>\n",
       "      <td>0.0</td>\n",
       "      <td>0.0</td>\n",
       "      <td>3.0</td>\n",
       "      <td>3.0</td>\n",
       "      <td>5.0</td>\n",
       "      <td>5.0</td>\n",
       "      <td>4.0</td>\n",
       "      <td>1.0</td>\n",
       "      <td>3</td>\n",
       "      <td>1</td>\n",
       "      <td>0</td>\n",
       "      <td>0.0</td>\n",
       "      <td>0.0</td>\n",
       "      <td>0</td>\n",
       "      <td>0</td>\n",
       "      <td>1</td>\n",
       "      <td>0</td>\n",
       "      <td>0</td>\n",
       "      <td>1</td>\n",
       "      <td>0</td>\n",
       "      <td>1</td>\n",
       "      <td>0</td>\n",
       "      <td>1</td>\n",
       "      <td>0</td>\n",
       "      <td>1</td>\n",
       "      <td>0</td>\n",
       "      <td>0</td>\n",
       "    </tr>\n",
       "    <tr>\n",
       "      <th>4</th>\n",
       "      <td>2.0</td>\n",
       "      <td>1.0</td>\n",
       "      <td>0.0</td>\n",
       "      <td>1.0</td>\n",
       "      <td>0.0</td>\n",
       "      <td>1.0</td>\n",
       "      <td>1.0</td>\n",
       "      <td>0.0</td>\n",
       "      <td>1.0</td>\n",
       "      <td>0.0</td>\n",
       "      <td>0.0</td>\n",
       "      <td>0.0</td>\n",
       "      <td>0.0</td>\n",
       "      <td>0.0</td>\n",
       "      <td>3.0</td>\n",
       "      <td>3.0</td>\n",
       "      <td>2.0</td>\n",
       "      <td>3.0</td>\n",
       "      <td>1.0</td>\n",
       "      <td>4.0</td>\n",
       "      <td>4</td>\n",
       "      <td>3</td>\n",
       "      <td>1</td>\n",
       "      <td>1.0</td>\n",
       "      <td>0.0</td>\n",
       "      <td>0</td>\n",
       "      <td>0</td>\n",
       "      <td>1</td>\n",
       "      <td>0</td>\n",
       "      <td>1</td>\n",
       "      <td>0</td>\n",
       "      <td>1</td>\n",
       "      <td>0</td>\n",
       "      <td>1</td>\n",
       "      <td>0</td>\n",
       "      <td>0</td>\n",
       "      <td>0</td>\n",
       "      <td>0</td>\n",
       "      <td>0</td>\n",
       "    </tr>\n",
       "  </tbody>\n",
       "</table>\n",
       "</div>"
      ],
      "text/plain": [
       "   h1n1_worry  h1n1_awareness  antiviral_medication  contact_avoidance  \\\n",
       "0         1.0             0.0                   0.0                0.0   \n",
       "1         3.0             2.0                   0.0                1.0   \n",
       "2         1.0             1.0                   0.0                1.0   \n",
       "3         1.0             1.0                   0.0                1.0   \n",
       "4         2.0             1.0                   0.0                1.0   \n",
       "\n",
       "   bought_face_mask  wash_hands_frequently  avoid_large_gatherings  \\\n",
       "0               0.0                    0.0                     0.0   \n",
       "1               0.0                    1.0                     0.0   \n",
       "2               0.0                    0.0                     0.0   \n",
       "3               0.0                    1.0                     1.0   \n",
       "4               0.0                    1.0                     1.0   \n",
       "\n",
       "   reduced_outside_home_cont  avoid_touch_face  dr_recc_h1n1_vacc  \\\n",
       "0                        1.0               1.0                0.0   \n",
       "1                        1.0               1.0                0.0   \n",
       "2                        0.0               0.0                0.0   \n",
       "3                        0.0               0.0                0.0   \n",
       "4                        0.0               1.0                0.0   \n",
       "\n",
       "   dr_recc_seasonal_vacc  chronic_medic_condition  cont_child_undr_6_mnths  \\\n",
       "0                    0.0                      0.0                      0.0   \n",
       "1                    0.0                      0.0                      0.0   \n",
       "2                    0.0                      1.0                      0.0   \n",
       "3                    1.0                      1.0                      0.0   \n",
       "4                    0.0                      0.0                      0.0   \n",
       "\n",
       "   is_health_worker  is_h1n1_vacc_effective  is_h1n1_risky  \\\n",
       "0               0.0                     3.0            1.0   \n",
       "1               0.0                     5.0            4.0   \n",
       "2               0.0                     3.0            1.0   \n",
       "3               0.0                     3.0            3.0   \n",
       "4               0.0                     3.0            3.0   \n",
       "\n",
       "   sick_from_h1n1_vacc  is_seas_vacc_effective  is_seas_risky  \\\n",
       "0                  2.0                     2.0            1.0   \n",
       "1                  4.0                     4.0            2.0   \n",
       "2                  1.0                     4.0            1.0   \n",
       "3                  5.0                     5.0            4.0   \n",
       "4                  2.0                     3.0            1.0   \n",
       "\n",
       "   sick_from_seas_vacc  age_bracket  qualification  income_level  \\\n",
       "0                  2.0            0              0             0   \n",
       "1                  4.0            1              1             0   \n",
       "2                  2.0            2              2             1   \n",
       "3                  1.0            3              1             0   \n",
       "4                  4.0            4              3             1   \n",
       "\n",
       "   no_of_adults  no_of_children  race_Hispanic  race_Other or Multiple  \\\n",
       "0           0.0             0.0              0                       0   \n",
       "1           0.0             0.0              0                       0   \n",
       "2           2.0             0.0              0                       0   \n",
       "3           0.0             0.0              0                       0   \n",
       "4           1.0             0.0              0                       0   \n",
       "\n",
       "   race_White  sex_Male  marital_status_Married  marital_status_Not Married  \\\n",
       "0           1         0                       0                           1   \n",
       "1           1         1                       0                           1   \n",
       "2           1         1                       0                           1   \n",
       "3           1         0                       0                           1   \n",
       "4           1         0                       1                           0   \n",
       "\n",
       "   housing_status_Own  housing_status_Rent  employment_Employed  \\\n",
       "0                   1                    0                    0   \n",
       "1                   0                    1                    1   \n",
       "2                   1                    0                    1   \n",
       "3                   0                    1                    0   \n",
       "4                   1                    0                    1   \n",
       "\n",
       "   employment_Not in Labor Force  employment_Unemployed  \\\n",
       "0                              1                      0   \n",
       "1                              0                      0   \n",
       "2                              0                      0   \n",
       "3                              1                      0   \n",
       "4                              0                      0   \n",
       "\n",
       "   census_msa_MSA, Principle City  census_msa_Non-MSA  h1n1_vaccine  \n",
       "0                               0                   1             0  \n",
       "1                               0                   0             0  \n",
       "2                               0                   0             0  \n",
       "3                               1                   0             0  \n",
       "4                               0                   0             0  "
      ]
     },
     "execution_count": 329,
     "metadata": {},
     "output_type": "execute_result"
    }
   ],
   "source": [
    "data.drop('h1n1_vaccine', axis = 1, inplace = True)\n",
    "data = pd.concat([data,data1], axis = 1)\n",
    "data.head()"
   ]
  },
  {
   "cell_type": "markdown",
   "id": "9262f474-385c-451a-acd1-392c4b4dd7fe",
   "metadata": {},
   "source": [
    "### OUTLIERS"
   ]
  },
  {
   "cell_type": "code",
   "execution_count": 330,
   "id": "64df5995-926a-486e-9ca5-df491d9d9045",
   "metadata": {},
   "outputs": [
    {
     "data": {
      "text/plain": [
       "<AxesSubplot:>"
      ]
     },
     "execution_count": 330,
     "metadata": {},
     "output_type": "execute_result"
    },
    {
     "data": {
      "image/png": "[encoded data removed]",
      "text/plain": [
       "<Figure size 4000x1000 with 1 Axes>"
      ]
     },
     "metadata": {},
     "output_type": "display_data"
    }
   ],
   "source": [
    "plt.figure(figsize = (40,10))\n",
    "sns.boxplot(data = data)"
   ]
  },
  {
   "cell_type": "code",
   "execution_count": 331,
   "id": "c424fb19-4226-4103-8706-8132c2020ee9",
   "metadata": {},
   "outputs": [],
   "source": [
    "for cols in data.columns[1:]:\n",
    "    if data[cols].dtype == object:\n",
    "        continue\n",
    "    else:\n",
    "        Q1 = data[cols].quantile(q=0.25)\n",
    "        Q3 = data[cols].quantile(q=0.75)\n",
    "        iqr = Q3-Q1\n",
    "        \n",
    "        low = Q1 - 1.5*(Q3-Q1)\n",
    "        high = Q3 + 1.5*(Q3-Q1)\n",
    "        \n",
    "        data.loc[(data[cols]<low) | (data[cols]>high),cols] = data[cols].mean()"
   ]
  },
  {
   "cell_type": "code",
   "execution_count": 332,
   "id": "cbb491ea-053b-4aa1-bffc-94920d948dc8",
   "metadata": {},
   "outputs": [
    {
     "data": {
      "text/plain": [
       "<AxesSubplot:>"
      ]
     },
     "execution_count": 332,
     "metadata": {},
     "output_type": "execute_result"
    },
    {
     "data": {
      "image/png": "[encoded data removed]",
      "text/plain": [
       "<Figure size 4000x1000 with 1 Axes>"
      ]
     },
     "metadata": {},
     "output_type": "display_data"
    }
   ],
   "source": [
    "plt.figure(figsize = (40,10))\n",
    "sns.boxplot(data = data)"
   ]
  },
  {
   "cell_type": "markdown",
   "id": "0caf56ff-a18d-4622-b085-f11a1a955d2f",
   "metadata": {},
   "source": [
    "You can see outliers have reduced and some have been even cleared out"
   ]
  },
  {
   "cell_type": "markdown",
   "id": "0c291a1e-bac9-4953-834a-db004446e2b8",
   "metadata": {},
   "source": [
    "## FEATURE SELECTION"
   ]
  },
  {
   "cell_type": "code",
   "execution_count": 333,
   "id": "AW-ZCftv02ef",
   "metadata": {
    "id": "AW-ZCftv02ef"
   },
   "outputs": [],
   "source": [
    "x = data.iloc[:,:35]\n",
    "y = data.iloc[:,-1]"
   ]
  },
  {
   "cell_type": "markdown",
   "id": "55a81d7c-aa73-4e56-abf4-e2ac60fc5f49",
   "metadata": {
    "tags": []
   },
   "source": [
    "### BALANCING DATA"
   ]
  },
  {
   "cell_type": "code",
   "execution_count": 334,
   "id": "fc53129e-0be3-44c9-83e0-e544830fbe50",
   "metadata": {},
   "outputs": [
    {
     "data": {
      "text/plain": [
       "0.000000    19842\n",
       "0.213805     5396\n",
       "Name: h1n1_vaccine, dtype: int64"
      ]
     },
     "execution_count": 334,
     "metadata": {},
     "output_type": "execute_result"
    }
   ],
   "source": [
    "y.value_counts()"
   ]
  },
  {
   "cell_type": "code",
   "execution_count": 335,
   "id": "f2e4c36a-4197-4a07-af67-10516f2b69a6",
   "metadata": {},
   "outputs": [],
   "source": [
    "from collections import Counter\n",
    "from sklearn.datasets import make_classification"
   ]
  },
  {
   "cell_type": "code",
   "execution_count": 336,
   "id": "98930270-1a7d-44a7-8e53-56a53fe2e0ae",
   "metadata": {},
   "outputs": [
    {
     "name": "stdout",
     "output_type": "stream",
     "text": [
      "Counter({0: 9900, 1: 100})\n"
     ]
    }
   ],
   "source": [
    "x,y = make_classification(n_samples = 10000, n_features = 2, n_redundant =0, n_clusters_per_class = 1,\n",
    "                          weights=[0.99], flip_y = 0, random_state = 1)\n",
    "counter = Counter(y)\n",
    "print(counter)"
   ]
  },
  {
   "cell_type": "code",
   "execution_count": 337,
   "id": "5e64e67f-25b2-4880-98bc-682af60e25e9",
   "metadata": {},
   "outputs": [
    {
     "name": "stdout",
     "output_type": "stream",
     "text": [
      "Requirement already satisfied: imbalanced-learn in c:\\users\\hp\\anaconda3\\lib\\site-packages (0.11.0)\n",
      "Requirement already satisfied: scipy>=1.5.0 in c:\\users\\hp\\anaconda3\\lib\\site-packages (from imbalanced-learn) (1.13.1)\n",
      "Requirement already satisfied: joblib>=1.1.1 in c:\\users\\hp\\anaconda3\\lib\\site-packages (from imbalanced-learn) (1.2.0)\n",
      "Requirement already satisfied: scikit-learn>=1.0.2 in c:\\users\\hp\\anaconda3\\lib\\site-packages (from imbalanced-learn) (1.2.0)\n",
      "Requirement already satisfied: numpy>=1.17.3 in c:\\users\\hp\\anaconda3\\lib\\site-packages (from imbalanced-learn) (1.24.0)\n",
      "Requirement already satisfied: threadpoolctl>=2.0.0 in c:\\users\\hp\\anaconda3\\lib\\site-packages (from imbalanced-learn) (3.5.0)\n",
      "Note: you may need to restart the kernel to use updated packages.\n"
     ]
    }
   ],
   "source": [
    "pip install imbalanced-learn"
   ]
  },
  {
   "cell_type": "code",
   "execution_count": 338,
   "id": "dee229a7-5b4b-4fa3-9e84-3adba064f2e4",
   "metadata": {},
   "outputs": [
    {
     "name": "stdout",
     "output_type": "stream",
     "text": [
      "Counter({0: 9900, 1: 9900})\n"
     ]
    }
   ],
   "source": [
    "from imblearn.over_sampling import SMOTE\n",
    "from matplotlib import pyplot\n",
    "\n",
    "oversample = SMOTE()\n",
    "x,y = oversample.fit_resample(x,y)\n",
    "\n",
    "counter = Counter(y)\n",
    "print(counter)"
   ]
  },
  {
   "cell_type": "markdown",
   "id": "9bfd3335-2aef-4470-b14f-c0c36aba5389",
   "metadata": {},
   "source": [
    "###  STANDARDIZING DATA"
   ]
  },
  {
   "cell_type": "code",
   "execution_count": null,
   "id": "yEhKCx0L0SQn",
   "metadata": {
    "colab": {
     "base_uri": "https://localhost:8080/"
    },
    "id": "yEhKCx0L0SQn",
    "outputId": "adab3d3e-8a7d-4cdd-dd11-5d07a38a993d"
   },
   "outputs": [],
   "source": [
    "from sklearn.preprocessing import StandardScaler\n",
    "scaler = StandardScaler()\n",
    "scaled = scaler.fit_transform(x)\n",
    "print(scaled)"
   ]
  },
  {
   "cell_type": "markdown",
   "id": "86e77177-6393-4366-b6fb-51e9248ebae7",
   "metadata": {},
   "source": [
    "### BIFIRCATING DATA TO TEST AND TRAIN"
   ]
  },
  {
   "cell_type": "code",
   "execution_count": null,
   "id": "td6E2Vb71Pgg",
   "metadata": {
    "id": "td6E2Vb71Pgg"
   },
   "outputs": [],
   "source": [
    "from sklearn.model_selection import train_test_split\n",
    "x_train,x_test, y_train,y_test = train_test_split(scaled,y,test_size = 0.2, random_state =42)"
   ]
  },
  {
   "cell_type": "markdown",
   "id": "d9375ddc-1556-4ce6-b475-bacf747030fd",
   "metadata": {},
   "source": [
    "### FITTING THE MODEL"
   ]
  },
  {
   "cell_type": "code",
   "execution_count": null,
   "id": "9fhnd-R61_6H",
   "metadata": {
    "colab": {
     "base_uri": "https://localhost:8080/"
    },
    "id": "9fhnd-R61_6H",
    "outputId": "5abc48b1-225e-499c-ea29-c6c7e2046181"
   },
   "outputs": [],
   "source": [
    "from sklearn.linear_model import LogisticRegression\n",
    "LR = LogisticRegression(random_state = 42, solver='lbfgs')\n",
    "LR.fit(x_train,y_train)\n",
    "\n",
    "y_pred = LR.predict(x_test)\n",
    "\n",
    "LR.score(x_train,y_train)"
   ]
  },
  {
   "cell_type": "code",
   "execution_count": null,
   "id": "-7XE6DnE2m3z",
   "metadata": {
    "colab": {
     "base_uri": "https://localhost:8080/"
    },
    "id": "-7XE6DnE2m3z",
    "outputId": "efd0b4f9-1b59-4695-d294-70123a747fb8"
   },
   "outputs": [],
   "source": [
    "LR.score(x_test,y_test)"
   ]
  },
  {
   "cell_type": "code",
   "execution_count": null,
   "id": "yivaS38U2pWb",
   "metadata": {
    "colab": {
     "base_uri": "https://localhost:8080/"
    },
    "id": "yivaS38U2pWb",
    "outputId": "779e21d8-e988-41d3-ca12-f0109821f2d7"
   },
   "outputs": [],
   "source": [
    "\n",
    "from sklearn.linear_model import LogisticRegression\n",
    "logreg = LogisticRegression(solver = 'lbfgs', max_iter = 100, penalty = 'l2')\n",
    "\n",
    "logreg.fit(x_train,y_train)\n",
    "\n",
    "# predict set\n",
    "y_pred = logreg.predict(x_test)\n",
    "\n",
    "logreg.score(x_train,y_train)"
   ]
  },
  {
   "cell_type": "code",
   "execution_count": null,
   "id": "e9y7fG_w2_f8",
   "metadata": {
    "colab": {
     "base_uri": "https://localhost:8080/"
    },
    "id": "e9y7fG_w2_f8",
    "outputId": "14633052-539f-42e9-819e-83026be55288"
   },
   "outputs": [],
   "source": [
    "logreg.score(x_test,y_test)"
   ]
  },
  {
   "cell_type": "code",
   "execution_count": null,
   "id": "K0NrWLpr3Bdl",
   "metadata": {
    "colab": {
     "base_uri": "https://localhost:8080/"
    },
    "id": "K0NrWLpr3Bdl",
    "outputId": "82d4c540-b202-4d44-fe27-14b0936060cb"
   },
   "outputs": [],
   "source": [
    "## metrics\n",
    "from sklearn.metrics import confusion_matrix \n",
    "cnf_matrix = confusion_matrix(y_test, y_pred)\n",
    "cnf_matrix"
   ]
  },
  {
   "cell_type": "code",
   "execution_count": null,
   "id": "BaVXp-yU3bfl",
   "metadata": {
    "colab": {
     "base_uri": "https://localhost:8080/"
    },
    "id": "BaVXp-yU3bfl",
    "outputId": "1b6de6f4-c2df-4552-9b66-3c3fc6373bab"
   },
   "outputs": [],
   "source": [
    "from sklearn import metrics\n",
    "print(\"Accuracy:\",metrics.accuracy_score(y_test, y_pred))\n",
    "print(\"Precision:\",metrics.precision_score(y_test, y_pred))\n",
    "print(\"Recall:\",metrics.recall_score(y_test, y_pred))"
   ]
  },
  {
   "cell_type": "code",
   "execution_count": null,
   "id": "a5C6nzPD3fch",
   "metadata": {
    "colab": {
     "base_uri": "https://localhost:8080/"
    },
    "id": "a5C6nzPD3fch",
    "outputId": "9c3c0b32-cbd9-4292-91f3-5317a46909e3"
   },
   "outputs": [],
   "source": [
    "from sklearn import metrics\n",
    "print(metrics.classification_report(y_test, y_pred))"
   ]
  },
  {
   "cell_type": "code",
   "execution_count": null,
   "id": "c8ZOsZPW4qFW",
   "metadata": {
    "colab": {
     "base_uri": "https://localhost:8080/",
     "height": 117
    },
    "id": "c8ZOsZPW4qFW",
    "outputId": "b67827e3-096f-4380-ee15-55f576c03d13"
   },
   "outputs": [],
   "source": [
    "from sklearn.model_selection import GridSearchCV\n",
    "clf = GridSearchCV(LogisticRegression(random_state=42), {\n",
    "    'C': [1,10,20],\n",
    "    'solver':['sag','lbfgs']\n",
    "}, cv=5, return_train_score=False)\n",
    "clf.fit(x_train, y_train)"
   ]
  },
  {
   "cell_type": "code",
   "execution_count": null,
   "id": "1RkdSccm5JTj",
   "metadata": {
    "colab": {
     "base_uri": "https://localhost:8080/"
    },
    "id": "1RkdSccm5JTj",
    "outputId": "2a414bc5-894f-4a6f-8e56-a50681e4c79e"
   },
   "outputs": [],
   "source": [
    "clf.best_params_"
   ]
  },
  {
   "cell_type": "code",
   "execution_count": null,
   "id": "ZE8hpjYN5NT6",
   "metadata": {
    "colab": {
     "base_uri": "https://localhost:8080/"
    },
    "id": "ZE8hpjYN5NT6",
    "outputId": "7c1ce6e4-8f08-4e2e-8eba-740273e12e4d"
   },
   "outputs": [],
   "source": [
    "New_LR = LogisticRegression(C= 10, solver='sag')\n",
    "New_LR.fit(x_train,y_train)\n",
    "New_LR.score(x_test,y_test)"
   ]
  },
  {
   "cell_type": "code",
   "execution_count": null,
   "id": "a7c0a782-99b3-4f13-ab7a-dc1eb18867ff",
   "metadata": {},
   "outputs": [],
   "source": [
    "New_LR.score(x_train,y_train)"
   ]
  },
  {
   "cell_type": "code",
   "execution_count": null,
   "id": "14622394-b768-4896-a3ca-b18b94c3cf01",
   "metadata": {},
   "outputs": [],
   "source": [
    "from sklearn.metrics import accuracy_score, precision_score, confusion_matrix\n",
    "\n",
    "# Calculate accuracy\n",
    "accuracy = accuracy_score(y_test, y_pred)\n",
    "print(f\"Accuracy: {accuracy:.4f}\")\n",
    "\n",
    "# Calculate precision\n",
    "precision = precision_score(y_test, y_pred)\n",
    "print(f\"Precision: {precision:.4f}\")\n",
    "\n",
    "# Compute confusion matrix\n",
    "conf_matrix = confusion_matrix(y_test, y_pred)\n",
    "print(\"Confusion Matrix:\\n\", conf_matrix)"
   ]
  },
  {
   "cell_type": "markdown",
   "id": "f6800782-cc7e-4204-bbd8-f8a47b2c3701",
   "metadata": {},
   "source": [
    "#### HERE we are seeing a case of overfitting, hence we try to apply random forst and descion tree algorithms and accordingly find the best algorithm"
   ]
  },
  {
   "cell_type": "markdown",
   "id": "4632e7e8-3e75-44b8-9caf-29543d28a4f0",
   "metadata": {},
   "source": [
    "### DECISION TREE"
   ]
  },
  {
   "cell_type": "code",
   "execution_count": null,
   "id": "716be881-9555-4867-a0fc-b6c9a783c214",
   "metadata": {},
   "outputs": [],
   "source": [
    "from sklearn.tree import DecisionTreeClassifier\n",
    "clf = DecisionTreeClassifier(max_depth=3)\n",
    "clf = clf.fit(x,y)\n",
    "y_pred =clf.predict(x_test)"
   ]
  },
  {
   "cell_type": "code",
   "execution_count": null,
   "id": "16a9ef44-99e7-4791-91dc-100b1fd870aa",
   "metadata": {},
   "outputs": [],
   "source": [
    "from sklearn.metrics import accuracy_score\n",
    "accuracy_train = accuracy_score(y_true=y_train, y_pred=clf.predict(x_train))\n",
    "accuracy_train   "
   ]
  },
  {
   "cell_type": "code",
   "execution_count": null,
   "id": "b2c908a6-f375-4115-a3f1-8fb4a0db9638",
   "metadata": {},
   "outputs": [],
   "source": [
    "accuracy_test = accuracy_score(y_true=y_test, y_pred=clf.predict(x_test))\n",
    "accuracy_test "
   ]
  },
  {
   "cell_type": "code",
   "execution_count": null,
   "id": "d1859286-d7b6-441c-b412-e0c0800175be",
   "metadata": {},
   "outputs": [],
   "source": [
    "from sklearn import metrics\n",
    "print(metrics.classification_report(y_test, y_pred))"
   ]
  },
  {
   "cell_type": "code",
   "execution_count": null,
   "id": "21c15b50-a019-402f-a41e-7f04288006e7",
   "metadata": {},
   "outputs": [],
   "source": [
    "from sklearn.metrics import confusion_matrix\n",
    "\n",
    "cm = confusion_matrix(y_test, y_pred) \n",
    "cm"
   ]
  },
  {
   "cell_type": "markdown",
   "id": "6f2eae57-8cf6-4b35-9134-7d58d723cbb9",
   "metadata": {},
   "source": [
    "### RANDOM FOREST "
   ]
  },
  {
   "cell_type": "code",
   "execution_count": null,
   "id": "da8a4da5-e6d6-4dd1-84c3-6e62feddcc11",
   "metadata": {},
   "outputs": [],
   "source": [
    "from sklearn.ensemble import RandomForestClassifier\n",
    "model = RandomForestClassifier(n_estimators=20)\n",
    "model.fit(x_train, y_train)"
   ]
  },
  {
   "cell_type": "code",
   "execution_count": null,
   "id": "95160d5f-3580-480d-81e0-9daab3f3937d",
   "metadata": {},
   "outputs": [],
   "source": [
    "y_predicted = model.predict(x_test)"
   ]
  },
  {
   "cell_type": "code",
   "execution_count": null,
   "id": "a08700c7-6c06-4bd5-a3de-e67bdfacdad7",
   "metadata": {},
   "outputs": [],
   "source": [
    "model.score(x_train,y_train)"
   ]
  },
  {
   "cell_type": "code",
   "execution_count": null,
   "id": "9e452eb6-ecc0-4dce-ba3b-2012f84b9569",
   "metadata": {},
   "outputs": [],
   "source": [
    "model.score(x_test, y_test)"
   ]
  },
  {
   "cell_type": "code",
   "execution_count": null,
   "id": "3f142996-d317-4550-9dca-f87316c57b3e",
   "metadata": {},
   "outputs": [],
   "source": [
    "from sklearn import metrics\n",
    "print(metrics.classification_report(y_test, y_predicted))"
   ]
  },
  {
   "cell_type": "code",
   "execution_count": null,
   "id": "f91efa6c-361c-4b15-ba62-7647b2b0f969",
   "metadata": {},
   "outputs": [],
   "source": [
    "from sklearn.metrics import confusion_matrix\n",
    "cm = confusion_matrix(y_test, y_predicted)\n",
    "cm"
   ]
  },
  {
   "cell_type": "markdown",
   "id": "835524ce-74e2-4f96-95bf-83ea36e8b731",
   "metadata": {},
   "source": [
    "### XG BOOST "
   ]
  },
  {
   "cell_type": "code",
   "execution_count": null,
   "id": "7e3520c0-4f5d-4eff-8dcf-65125b4f901c",
   "metadata": {},
   "outputs": [],
   "source": [
    "import xgboost as xgb\n",
    "\n",
    "xgb_model = xgb.XGBClassifier(n_estimators=100, max_depth=5, random_state=42)\n",
    "\n",
    "xgb_model.fit(x_train, y_train)\n",
    "\n",
    "y_pred = xgb_model.predict(x_test)"
   ]
  },
  {
   "cell_type": "code",
   "execution_count": null,
   "id": "281847aa-7c30-4832-a484-5da615526f7e",
   "metadata": {},
   "outputs": [],
   "source": [
    "from sklearn import metrics\n",
    "print(metrics.classification_report(y_test, y_pred))"
   ]
  },
  {
   "cell_type": "code",
   "execution_count": null,
   "id": "7c99d626-aa8b-41ea-831c-88d72a16b488",
   "metadata": {},
   "outputs": [],
   "source": [
    "# Compute confusion matrix\n",
    "conf_matrix = confusion_matrix(y_test, y_pred)\n",
    "print(\"Confusion Matrix:\\n\", conf_matrix)\n"
   ]
  },
  {
   "cell_type": "markdown",
   "id": "5ad1cba2-f062-4d80-9d25-2642b37dfa89",
   "metadata": {},
   "source": [
    "## AS WE CAN SEE HERE:\n",
    "   #### AMONGST THE 4 MODEL USED\n",
    "    1. Logistic Regression\n",
    "    2. Decision Tree Classifier\n",
    "    3. Random Forest Classifier\n",
    "    4. Xtreme Gradient Boosting CLassifier\n",
    "    \n",
    "   **RANDOM FOREST CLASSIFIER IS THE BEST MODEL**\"\"\n",
    "    "
   ]
  },
  {
   "cell_type": "markdown",
   "id": "8cbd2782-3d3f-4d7c-8fd4-0d8f72bad2ed",
   "metadata": {},
   "source": [
    "## This model can be beneficial and further used for:\n",
    "\n",
    "-  Public Health Impact: Identifies key factors influencing H1N1 vaccination and helps improve awareness campaigns.\n",
    "\n",
    "-  Better Vaccination Strategies: Assists governments and healthcare providers in predicting vaccine hesitancy and optimizing resource allocation.\n",
    "\n",
    "-  Research & Analytics: Supports epidemiologists, NGOs, and insurance companies in making data-driven healthcare decisions."
   ]
  },
  {
   "cell_type": "code",
   "execution_count": null,
   "id": "8bc60aad-0567-464e-a16c-e4ecd012b248",
   "metadata": {},
   "outputs": [],
   "source": []
  }
 ],
 "metadata": {
  "colab": {
   "provenance": []
  },
  "kernelspec": {
   "display_name": "Python 3 (ipykernel)",
   "language": "python",
   "name": "python3"
  },
  "language_info": {
   "codemirror_mode": {
    "name": "ipython",
    "version": 3
   },
   "file_extension": ".py",
   "mimetype": "text/x-python",
   "name": "python",
   "nbconvert_exporter": "python",
   "pygments_lexer": "ipython3",
   "version": "3.9.13"
  }
 },
 "nbformat": 4,
 "nbformat_minor": 5
}
